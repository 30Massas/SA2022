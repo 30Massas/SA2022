{
 "cells": [
  {
   "cell_type": "code",
   "execution_count": 2,
   "metadata": {},
   "outputs": [],
   "source": [
    "import pandas as pd\n",
    "import matplotlib.pyplot as plt\n",
    "import numpy as np\n",
    "import seaborn as sns\n",
    "import sklearn as skl"
   ]
  },
  {
   "cell_type": "code",
   "execution_count": 3,
   "metadata": {},
   "outputs": [],
   "source": [
    "dataset = pd.read_csv('info.csv',encoding='ISO-8859-1')"
   ]
  },
  {
   "cell_type": "code",
   "execution_count": 4,
   "metadata": {},
   "outputs": [
    {
     "data": {
      "text/html": [
       "<div>\n",
       "<style scoped>\n",
       "    .dataframe tbody tr th:only-of-type {\n",
       "        vertical-align: middle;\n",
       "    }\n",
       "\n",
       "    .dataframe tbody tr th {\n",
       "        vertical-align: top;\n",
       "    }\n",
       "\n",
       "    .dataframe thead th {\n",
       "        text-align: right;\n",
       "    }\n",
       "</style>\n",
       "<table border=\"1\" class=\"dataframe\">\n",
       "  <thead>\n",
       "    <tr style=\"text-align: right;\">\n",
       "      <th></th>\n",
       "      <th>mac_address</th>\n",
       "      <th>date</th>\n",
       "      <th>day</th>\n",
       "      <th>hour</th>\n",
       "    </tr>\n",
       "  </thead>\n",
       "  <tbody>\n",
       "    <tr>\n",
       "      <th>0</th>\n",
       "      <td>6c:a6:04:8c:a7:16</td>\n",
       "      <td>2022-4-13</td>\n",
       "      <td>Wed</td>\n",
       "      <td>9</td>\n",
       "    </tr>\n",
       "    <tr>\n",
       "      <th>1</th>\n",
       "      <td>dc:9b:d6:4e:c8:e0</td>\n",
       "      <td>2022-4-13</td>\n",
       "      <td>Wed</td>\n",
       "      <td>9</td>\n",
       "    </tr>\n",
       "    <tr>\n",
       "      <th>2</th>\n",
       "      <td>6c:a6:04:8c:a7:16</td>\n",
       "      <td>2022-4-13</td>\n",
       "      <td>Wed</td>\n",
       "      <td>10</td>\n",
       "    </tr>\n",
       "    <tr>\n",
       "      <th>3</th>\n",
       "      <td>6c:a6:04:8c:a7:16</td>\n",
       "      <td>2022-4-13</td>\n",
       "      <td>Wed</td>\n",
       "      <td>10</td>\n",
       "    </tr>\n",
       "    <tr>\n",
       "      <th>4</th>\n",
       "      <td>22:a5:89:b3:9e:fb</td>\n",
       "      <td>2022-4-13</td>\n",
       "      <td>Wed</td>\n",
       "      <td>10</td>\n",
       "    </tr>\n",
       "    <tr>\n",
       "      <th>...</th>\n",
       "      <td>...</td>\n",
       "      <td>...</td>\n",
       "      <td>...</td>\n",
       "      <td>...</td>\n",
       "    </tr>\n",
       "    <tr>\n",
       "      <th>143577</th>\n",
       "      <td>a0:51:0b:4d:3e:ab</td>\n",
       "      <td>2022-5-3</td>\n",
       "      <td>Tue</td>\n",
       "      <td>10</td>\n",
       "    </tr>\n",
       "    <tr>\n",
       "      <th>143578</th>\n",
       "      <td>fe:c9:62:c2:d5:ad</td>\n",
       "      <td>2022-5-3</td>\n",
       "      <td>Tue</td>\n",
       "      <td>10</td>\n",
       "    </tr>\n",
       "    <tr>\n",
       "      <th>143579</th>\n",
       "      <td>4e:ac:e3:4b:70:5b</td>\n",
       "      <td>2022-5-3</td>\n",
       "      <td>Tue</td>\n",
       "      <td>10</td>\n",
       "    </tr>\n",
       "    <tr>\n",
       "      <th>143580</th>\n",
       "      <td>34:de:1a:98:af:8a</td>\n",
       "      <td>2022-5-3</td>\n",
       "      <td>Tue</td>\n",
       "      <td>10</td>\n",
       "    </tr>\n",
       "    <tr>\n",
       "      <th>143581</th>\n",
       "      <td>4e:ad:a6:7d:87:b4</td>\n",
       "      <td>2022-5-3</td>\n",
       "      <td>Tue</td>\n",
       "      <td>10</td>\n",
       "    </tr>\n",
       "  </tbody>\n",
       "</table>\n",
       "<p>143582 rows × 4 columns</p>\n",
       "</div>"
      ],
      "text/plain": [
       "              mac_address       date  day  hour\n",
       "0       6c:a6:04:8c:a7:16  2022-4-13  Wed     9\n",
       "1       dc:9b:d6:4e:c8:e0  2022-4-13  Wed     9\n",
       "2       6c:a6:04:8c:a7:16  2022-4-13  Wed    10\n",
       "3       6c:a6:04:8c:a7:16  2022-4-13  Wed    10\n",
       "4       22:a5:89:b3:9e:fb  2022-4-13  Wed    10\n",
       "...                   ...        ...  ...   ...\n",
       "143577  a0:51:0b:4d:3e:ab   2022-5-3  Tue    10\n",
       "143578  fe:c9:62:c2:d5:ad   2022-5-3  Tue    10\n",
       "143579  4e:ac:e3:4b:70:5b   2022-5-3  Tue    10\n",
       "143580  34:de:1a:98:af:8a   2022-5-3  Tue    10\n",
       "143581  4e:ad:a6:7d:87:b4   2022-5-3  Tue    10\n",
       "\n",
       "[143582 rows x 4 columns]"
      ]
     },
     "execution_count": 4,
     "metadata": {},
     "output_type": "execute_result"
    }
   ],
   "source": [
    "dataset"
   ]
  },
  {
   "cell_type": "code",
   "execution_count": 5,
   "metadata": {},
   "outputs": [
    {
     "data": {
      "text/plain": [
       "mac_address    0\n",
       "date           0\n",
       "day            0\n",
       "hour           0\n",
       "dtype: int64"
      ]
     },
     "execution_count": 5,
     "metadata": {},
     "output_type": "execute_result"
    }
   ],
   "source": [
    "dataset.isnull().sum()"
   ]
  },
  {
   "cell_type": "code",
   "execution_count": 6,
   "metadata": {},
   "outputs": [
    {
     "data": {
      "text/plain": [
       "mac_address    111629\n",
       "date               21\n",
       "day                 7\n",
       "hour               24\n",
       "dtype: int64"
      ]
     },
     "execution_count": 6,
     "metadata": {},
     "output_type": "execute_result"
    }
   ],
   "source": [
    "dataset.nunique()"
   ]
  },
  {
   "cell_type": "code",
   "execution_count": 7,
   "metadata": {},
   "outputs": [
    {
     "name": "stdout",
     "output_type": "stream",
     "text": [
      "<class 'pandas.core.frame.DataFrame'>\n",
      "RangeIndex: 143582 entries, 0 to 143581\n",
      "Data columns (total 4 columns):\n",
      " #   Column       Non-Null Count   Dtype \n",
      "---  ------       --------------   ----- \n",
      " 0   mac_address  143582 non-null  object\n",
      " 1   date         143582 non-null  object\n",
      " 2   day          143582 non-null  object\n",
      " 3   hour         143582 non-null  int64 \n",
      "dtypes: int64(1), object(3)\n",
      "memory usage: 4.4+ MB\n"
     ]
    }
   ],
   "source": [
    "dataset.info()"
   ]
  },
  {
   "cell_type": "code",
   "execution_count": 14,
   "metadata": {},
   "outputs": [
    {
     "data": {
      "text/html": [
       "<div>\n",
       "<style scoped>\n",
       "    .dataframe tbody tr th:only-of-type {\n",
       "        vertical-align: middle;\n",
       "    }\n",
       "\n",
       "    .dataframe tbody tr th {\n",
       "        vertical-align: top;\n",
       "    }\n",
       "\n",
       "    .dataframe thead th {\n",
       "        text-align: right;\n",
       "    }\n",
       "</style>\n",
       "<table border=\"1\" class=\"dataframe\">\n",
       "  <thead>\n",
       "    <tr style=\"text-align: right;\">\n",
       "      <th></th>\n",
       "      <th>mac_address</th>\n",
       "      <th>full_date</th>\n",
       "      <th>day</th>\n",
       "    </tr>\n",
       "  </thead>\n",
       "  <tbody>\n",
       "    <tr>\n",
       "      <th>count</th>\n",
       "      <td>143586</td>\n",
       "      <td>143586</td>\n",
       "      <td>143586</td>\n",
       "    </tr>\n",
       "    <tr>\n",
       "      <th>unique</th>\n",
       "      <td>111629</td>\n",
       "      <td>21035</td>\n",
       "      <td>7</td>\n",
       "    </tr>\n",
       "    <tr>\n",
       "      <th>top</th>\n",
       "      <td>34:de:1a:98:af:8a</td>\n",
       "      <td>Fri Apr 29 21:53:05 2022</td>\n",
       "      <td>Fri</td>\n",
       "    </tr>\n",
       "    <tr>\n",
       "      <th>freq</th>\n",
       "      <td>5830</td>\n",
       "      <td>27</td>\n",
       "      <td>29807</td>\n",
       "    </tr>\n",
       "  </tbody>\n",
       "</table>\n",
       "</div>"
      ],
      "text/plain": [
       "              mac_address                 full_date     day\n",
       "count              143586                    143586  143586\n",
       "unique             111629                     21035       7\n",
       "top     34:de:1a:98:af:8a  Fri Apr 29 21:53:05 2022     Fri\n",
       "freq                 5830                        27   29807"
      ]
     },
     "execution_count": 14,
     "metadata": {},
     "output_type": "execute_result"
    }
   ],
   "source": [
    "dataset.describe(include=object)"
   ]
  },
  {
   "cell_type": "code",
   "execution_count": 18,
   "metadata": {},
   "outputs": [],
   "source": [
    "dataset['day_count'] = dataset.groupby(['day']).size()"
   ]
  }
 ],
 "metadata": {
  "interpreter": {
   "hash": "2dc541575c2549f11ad24dd2f4e05ff47223fbb94b62196dc98b619087f7f9e8"
  },
  "kernelspec": {
   "display_name": "Python 3.10.4 64-bit (windows store)",
   "language": "python",
   "name": "python3"
  },
  "language_info": {
   "codemirror_mode": {
    "name": "ipython",
    "version": 3
   },
   "file_extension": ".py",
   "mimetype": "text/x-python",
   "name": "python",
   "nbconvert_exporter": "python",
   "pygments_lexer": "ipython3",
   "version": "3.10.4"
  },
  "orig_nbformat": 4
 },
 "nbformat": 4,
 "nbformat_minor": 2
}
