{
 "cells": [
  {
   "cell_type": "code",
   "execution_count": 5,
   "metadata": {},
   "outputs": [],
   "source": [
    "import pandas as pd\n",
    "import matplotlib.pyplot as plt\n",
    "import numpy as np\n",
    "import seaborn as sns\n",
    "import sklearn as skl\n",
    "from sklearn.model_selection import train_test_split\n",
    "from sklearn import preprocessing"
   ]
  },
  {
   "cell_type": "code",
   "execution_count": 29,
   "metadata": {},
   "outputs": [],
   "source": [
    "dataset = pd.read_csv('info.csv',encoding='ISO-8859-1')"
   ]
  },
  {
   "cell_type": "code",
   "execution_count": 30,
   "metadata": {},
   "outputs": [
    {
     "data": {
      "text/html": [
       "<div>\n",
       "<style scoped>\n",
       "    .dataframe tbody tr th:only-of-type {\n",
       "        vertical-align: middle;\n",
       "    }\n",
       "\n",
       "    .dataframe tbody tr th {\n",
       "        vertical-align: top;\n",
       "    }\n",
       "\n",
       "    .dataframe thead th {\n",
       "        text-align: right;\n",
       "    }\n",
       "</style>\n",
       "<table border=\"1\" class=\"dataframe\">\n",
       "  <thead>\n",
       "    <tr style=\"text-align: right;\">\n",
       "      <th></th>\n",
       "      <th>mac_address</th>\n",
       "      <th>date</th>\n",
       "      <th>day</th>\n",
       "      <th>hour</th>\n",
       "    </tr>\n",
       "  </thead>\n",
       "  <tbody>\n",
       "    <tr>\n",
       "      <th>0</th>\n",
       "      <td>6c:a6:04:8c:a7:16</td>\n",
       "      <td>2022-4-13</td>\n",
       "      <td>Wed</td>\n",
       "      <td>9</td>\n",
       "    </tr>\n",
       "    <tr>\n",
       "      <th>1</th>\n",
       "      <td>dc:9b:d6:4e:c8:e0</td>\n",
       "      <td>2022-4-13</td>\n",
       "      <td>Wed</td>\n",
       "      <td>9</td>\n",
       "    </tr>\n",
       "    <tr>\n",
       "      <th>2</th>\n",
       "      <td>6c:a6:04:8c:a7:16</td>\n",
       "      <td>2022-4-13</td>\n",
       "      <td>Wed</td>\n",
       "      <td>10</td>\n",
       "    </tr>\n",
       "    <tr>\n",
       "      <th>3</th>\n",
       "      <td>6c:a6:04:8c:a7:16</td>\n",
       "      <td>2022-4-13</td>\n",
       "      <td>Wed</td>\n",
       "      <td>10</td>\n",
       "    </tr>\n",
       "    <tr>\n",
       "      <th>4</th>\n",
       "      <td>22:a5:89:b3:9e:fb</td>\n",
       "      <td>2022-4-13</td>\n",
       "      <td>Wed</td>\n",
       "      <td>10</td>\n",
       "    </tr>\n",
       "    <tr>\n",
       "      <th>...</th>\n",
       "      <td>...</td>\n",
       "      <td>...</td>\n",
       "      <td>...</td>\n",
       "      <td>...</td>\n",
       "    </tr>\n",
       "    <tr>\n",
       "      <th>143577</th>\n",
       "      <td>a0:51:0b:4d:3e:ab</td>\n",
       "      <td>2022-5-3</td>\n",
       "      <td>Tue</td>\n",
       "      <td>10</td>\n",
       "    </tr>\n",
       "    <tr>\n",
       "      <th>143578</th>\n",
       "      <td>fe:c9:62:c2:d5:ad</td>\n",
       "      <td>2022-5-3</td>\n",
       "      <td>Tue</td>\n",
       "      <td>10</td>\n",
       "    </tr>\n",
       "    <tr>\n",
       "      <th>143579</th>\n",
       "      <td>4e:ac:e3:4b:70:5b</td>\n",
       "      <td>2022-5-3</td>\n",
       "      <td>Tue</td>\n",
       "      <td>10</td>\n",
       "    </tr>\n",
       "    <tr>\n",
       "      <th>143580</th>\n",
       "      <td>34:de:1a:98:af:8a</td>\n",
       "      <td>2022-5-3</td>\n",
       "      <td>Tue</td>\n",
       "      <td>10</td>\n",
       "    </tr>\n",
       "    <tr>\n",
       "      <th>143581</th>\n",
       "      <td>4e:ad:a6:7d:87:b4</td>\n",
       "      <td>2022-5-3</td>\n",
       "      <td>Tue</td>\n",
       "      <td>10</td>\n",
       "    </tr>\n",
       "  </tbody>\n",
       "</table>\n",
       "<p>143582 rows × 4 columns</p>\n",
       "</div>"
      ],
      "text/plain": [
       "              mac_address       date  day  hour\n",
       "0       6c:a6:04:8c:a7:16  2022-4-13  Wed     9\n",
       "1       dc:9b:d6:4e:c8:e0  2022-4-13  Wed     9\n",
       "2       6c:a6:04:8c:a7:16  2022-4-13  Wed    10\n",
       "3       6c:a6:04:8c:a7:16  2022-4-13  Wed    10\n",
       "4       22:a5:89:b3:9e:fb  2022-4-13  Wed    10\n",
       "...                   ...        ...  ...   ...\n",
       "143577  a0:51:0b:4d:3e:ab   2022-5-3  Tue    10\n",
       "143578  fe:c9:62:c2:d5:ad   2022-5-3  Tue    10\n",
       "143579  4e:ac:e3:4b:70:5b   2022-5-3  Tue    10\n",
       "143580  34:de:1a:98:af:8a   2022-5-3  Tue    10\n",
       "143581  4e:ad:a6:7d:87:b4   2022-5-3  Tue    10\n",
       "\n",
       "[143582 rows x 4 columns]"
      ]
     },
     "execution_count": 30,
     "metadata": {},
     "output_type": "execute_result"
    }
   ],
   "source": [
    "dataset"
   ]
  },
  {
   "cell_type": "code",
   "execution_count": 31,
   "metadata": {},
   "outputs": [
    {
     "data": {
      "text/html": [
       "<div>\n",
       "<style scoped>\n",
       "    .dataframe tbody tr th:only-of-type {\n",
       "        vertical-align: middle;\n",
       "    }\n",
       "\n",
       "    .dataframe tbody tr th {\n",
       "        vertical-align: top;\n",
       "    }\n",
       "\n",
       "    .dataframe thead th {\n",
       "        text-align: right;\n",
       "    }\n",
       "</style>\n",
       "<table border=\"1\" class=\"dataframe\">\n",
       "  <thead>\n",
       "    <tr style=\"text-align: right;\">\n",
       "      <th></th>\n",
       "      <th>mac_address</th>\n",
       "      <th>date</th>\n",
       "      <th>day</th>\n",
       "      <th>hour</th>\n",
       "    </tr>\n",
       "  </thead>\n",
       "  <tbody>\n",
       "    <tr>\n",
       "      <th>2</th>\n",
       "      <td>6c:a6:04:8c:a7:16</td>\n",
       "      <td>2022-4-13</td>\n",
       "      <td>Wed</td>\n",
       "      <td>10</td>\n",
       "    </tr>\n",
       "    <tr>\n",
       "      <th>3</th>\n",
       "      <td>6c:a6:04:8c:a7:16</td>\n",
       "      <td>2022-4-13</td>\n",
       "      <td>Wed</td>\n",
       "      <td>10</td>\n",
       "    </tr>\n",
       "    <tr>\n",
       "      <th>4</th>\n",
       "      <td>22:a5:89:b3:9e:fb</td>\n",
       "      <td>2022-4-13</td>\n",
       "      <td>Wed</td>\n",
       "      <td>10</td>\n",
       "    </tr>\n",
       "    <tr>\n",
       "      <th>5</th>\n",
       "      <td>6c:a6:04:8c:a7:16</td>\n",
       "      <td>2022-4-13</td>\n",
       "      <td>Wed</td>\n",
       "      <td>10</td>\n",
       "    </tr>\n",
       "    <tr>\n",
       "      <th>6</th>\n",
       "      <td>4a:e5:a1:c8:63:97</td>\n",
       "      <td>2022-4-13</td>\n",
       "      <td>Wed</td>\n",
       "      <td>10</td>\n",
       "    </tr>\n",
       "    <tr>\n",
       "      <th>7</th>\n",
       "      <td>6c:a6:04:8c:a7:16</td>\n",
       "      <td>2022-4-13</td>\n",
       "      <td>Wed</td>\n",
       "      <td>10</td>\n",
       "    </tr>\n",
       "    <tr>\n",
       "      <th>8</th>\n",
       "      <td>6c:a6:04:8c:a7:16</td>\n",
       "      <td>2022-4-13</td>\n",
       "      <td>Wed</td>\n",
       "      <td>10</td>\n",
       "    </tr>\n",
       "    <tr>\n",
       "      <th>9</th>\n",
       "      <td>6c:a6:04:8c:a7:16</td>\n",
       "      <td>2022-4-13</td>\n",
       "      <td>Wed</td>\n",
       "      <td>10</td>\n",
       "    </tr>\n",
       "    <tr>\n",
       "      <th>10</th>\n",
       "      <td>4a:e5:a1:c8:63:97</td>\n",
       "      <td>2022-4-13</td>\n",
       "      <td>Wed</td>\n",
       "      <td>10</td>\n",
       "    </tr>\n",
       "    <tr>\n",
       "      <th>11</th>\n",
       "      <td>da:a1:19:80:9d:78</td>\n",
       "      <td>2022-4-13</td>\n",
       "      <td>Wed</td>\n",
       "      <td>10</td>\n",
       "    </tr>\n",
       "    <tr>\n",
       "      <th>12</th>\n",
       "      <td>da:a1:19:80:9d:78</td>\n",
       "      <td>2022-4-13</td>\n",
       "      <td>Wed</td>\n",
       "      <td>10</td>\n",
       "    </tr>\n",
       "    <tr>\n",
       "      <th>13</th>\n",
       "      <td>22:a5:89:b3:9e:fb</td>\n",
       "      <td>2022-4-13</td>\n",
       "      <td>Wed</td>\n",
       "      <td>10</td>\n",
       "    </tr>\n",
       "    <tr>\n",
       "      <th>14</th>\n",
       "      <td>dc:9b:d6:4e:c8:e0</td>\n",
       "      <td>2022-4-13</td>\n",
       "      <td>Wed</td>\n",
       "      <td>10</td>\n",
       "    </tr>\n",
       "    <tr>\n",
       "      <th>15</th>\n",
       "      <td>6c:a6:04:8c:a7:16</td>\n",
       "      <td>2022-4-13</td>\n",
       "      <td>Wed</td>\n",
       "      <td>10</td>\n",
       "    </tr>\n",
       "    <tr>\n",
       "      <th>16</th>\n",
       "      <td>6c:a6:04:8c:a7:16</td>\n",
       "      <td>2022-4-13</td>\n",
       "      <td>Wed</td>\n",
       "      <td>10</td>\n",
       "    </tr>\n",
       "    <tr>\n",
       "      <th>17</th>\n",
       "      <td>4a:e5:a1:c8:63:97</td>\n",
       "      <td>2022-4-13</td>\n",
       "      <td>Wed</td>\n",
       "      <td>10</td>\n",
       "    </tr>\n",
       "    <tr>\n",
       "      <th>18</th>\n",
       "      <td>80:a5:89:b3:9e:fb</td>\n",
       "      <td>2022-4-13</td>\n",
       "      <td>Wed</td>\n",
       "      <td>10</td>\n",
       "    </tr>\n",
       "    <tr>\n",
       "      <th>19</th>\n",
       "      <td>de:2f:d9:df:9a:69</td>\n",
       "      <td>2022-4-13</td>\n",
       "      <td>Wed</td>\n",
       "      <td>10</td>\n",
       "    </tr>\n",
       "    <tr>\n",
       "      <th>20</th>\n",
       "      <td>a6:e8:fc:5e:a3:61</td>\n",
       "      <td>2022-4-13</td>\n",
       "      <td>Wed</td>\n",
       "      <td>10</td>\n",
       "    </tr>\n",
       "    <tr>\n",
       "      <th>21</th>\n",
       "      <td>fe:80:10:63:c9:da</td>\n",
       "      <td>2022-4-13</td>\n",
       "      <td>Wed</td>\n",
       "      <td>10</td>\n",
       "    </tr>\n",
       "    <tr>\n",
       "      <th>22</th>\n",
       "      <td>36:d0:ef:b8:e9:98</td>\n",
       "      <td>2022-4-13</td>\n",
       "      <td>Wed</td>\n",
       "      <td>10</td>\n",
       "    </tr>\n",
       "    <tr>\n",
       "      <th>23</th>\n",
       "      <td>6c:a6:04:8c:a7:16</td>\n",
       "      <td>2022-4-13</td>\n",
       "      <td>Wed</td>\n",
       "      <td>10</td>\n",
       "    </tr>\n",
       "    <tr>\n",
       "      <th>24</th>\n",
       "      <td>6c:a6:04:8c:a7:16</td>\n",
       "      <td>2022-4-13</td>\n",
       "      <td>Wed</td>\n",
       "      <td>10</td>\n",
       "    </tr>\n",
       "    <tr>\n",
       "      <th>25</th>\n",
       "      <td>da:a1:19:86:db:74</td>\n",
       "      <td>2022-4-13</td>\n",
       "      <td>Wed</td>\n",
       "      <td>10</td>\n",
       "    </tr>\n",
       "    <tr>\n",
       "      <th>26</th>\n",
       "      <td>6c:a6:04:8c:a7:16</td>\n",
       "      <td>2022-4-13</td>\n",
       "      <td>Wed</td>\n",
       "      <td>10</td>\n",
       "    </tr>\n",
       "    <tr>\n",
       "      <th>27</th>\n",
       "      <td>da:a1:19:7a:7e:95</td>\n",
       "      <td>2022-4-13</td>\n",
       "      <td>Wed</td>\n",
       "      <td>10</td>\n",
       "    </tr>\n",
       "    <tr>\n",
       "      <th>28</th>\n",
       "      <td>26:fe:22:7b:db:dd</td>\n",
       "      <td>2022-4-13</td>\n",
       "      <td>Wed</td>\n",
       "      <td>10</td>\n",
       "    </tr>\n",
       "    <tr>\n",
       "      <th>29</th>\n",
       "      <td>6c:a6:04:8c:a7:16</td>\n",
       "      <td>2022-4-13</td>\n",
       "      <td>Wed</td>\n",
       "      <td>10</td>\n",
       "    </tr>\n",
       "    <tr>\n",
       "      <th>30</th>\n",
       "      <td>dc:9b:d6:4e:c8:e0</td>\n",
       "      <td>2022-4-13</td>\n",
       "      <td>Wed</td>\n",
       "      <td>10</td>\n",
       "    </tr>\n",
       "    <tr>\n",
       "      <th>31</th>\n",
       "      <td>6c:a6:04:8c:a7:16</td>\n",
       "      <td>2022-4-13</td>\n",
       "      <td>Wed</td>\n",
       "      <td>10</td>\n",
       "    </tr>\n",
       "  </tbody>\n",
       "</table>\n",
       "</div>"
      ],
      "text/plain": [
       "          mac_address       date  day  hour\n",
       "2   6c:a6:04:8c:a7:16  2022-4-13  Wed    10\n",
       "3   6c:a6:04:8c:a7:16  2022-4-13  Wed    10\n",
       "4   22:a5:89:b3:9e:fb  2022-4-13  Wed    10\n",
       "5   6c:a6:04:8c:a7:16  2022-4-13  Wed    10\n",
       "6   4a:e5:a1:c8:63:97  2022-4-13  Wed    10\n",
       "7   6c:a6:04:8c:a7:16  2022-4-13  Wed    10\n",
       "8   6c:a6:04:8c:a7:16  2022-4-13  Wed    10\n",
       "9   6c:a6:04:8c:a7:16  2022-4-13  Wed    10\n",
       "10  4a:e5:a1:c8:63:97  2022-4-13  Wed    10\n",
       "11  da:a1:19:80:9d:78  2022-4-13  Wed    10\n",
       "12  da:a1:19:80:9d:78  2022-4-13  Wed    10\n",
       "13  22:a5:89:b3:9e:fb  2022-4-13  Wed    10\n",
       "14  dc:9b:d6:4e:c8:e0  2022-4-13  Wed    10\n",
       "15  6c:a6:04:8c:a7:16  2022-4-13  Wed    10\n",
       "16  6c:a6:04:8c:a7:16  2022-4-13  Wed    10\n",
       "17  4a:e5:a1:c8:63:97  2022-4-13  Wed    10\n",
       "18  80:a5:89:b3:9e:fb  2022-4-13  Wed    10\n",
       "19  de:2f:d9:df:9a:69  2022-4-13  Wed    10\n",
       "20  a6:e8:fc:5e:a3:61  2022-4-13  Wed    10\n",
       "21  fe:80:10:63:c9:da  2022-4-13  Wed    10\n",
       "22  36:d0:ef:b8:e9:98  2022-4-13  Wed    10\n",
       "23  6c:a6:04:8c:a7:16  2022-4-13  Wed    10\n",
       "24  6c:a6:04:8c:a7:16  2022-4-13  Wed    10\n",
       "25  da:a1:19:86:db:74  2022-4-13  Wed    10\n",
       "26  6c:a6:04:8c:a7:16  2022-4-13  Wed    10\n",
       "27  da:a1:19:7a:7e:95  2022-4-13  Wed    10\n",
       "28  26:fe:22:7b:db:dd  2022-4-13  Wed    10\n",
       "29  6c:a6:04:8c:a7:16  2022-4-13  Wed    10\n",
       "30  dc:9b:d6:4e:c8:e0  2022-4-13  Wed    10\n",
       "31  6c:a6:04:8c:a7:16  2022-4-13  Wed    10"
      ]
     },
     "execution_count": 31,
     "metadata": {},
     "output_type": "execute_result"
    }
   ],
   "source": [
    "macs_13_04_10h = dataset.loc[lambda dataset: dataset['hour'] == 10]\n",
    "macs_13_04_10h.head(30)"
   ]
  },
  {
   "cell_type": "code",
   "execution_count": 32,
   "metadata": {},
   "outputs": [
    {
     "data": {
      "text/plain": [
       "mac_address    0\n",
       "date           0\n",
       "day            0\n",
       "hour           0\n",
       "dtype: int64"
      ]
     },
     "execution_count": 32,
     "metadata": {},
     "output_type": "execute_result"
    }
   ],
   "source": [
    "dataset.isnull().sum()"
   ]
  },
  {
   "cell_type": "code",
   "execution_count": 6,
   "metadata": {},
   "outputs": [
    {
     "data": {
      "text/plain": [
       "mac_address    111629\n",
       "date               21\n",
       "day                 7\n",
       "hour               24\n",
       "dtype: int64"
      ]
     },
     "execution_count": 6,
     "metadata": {},
     "output_type": "execute_result"
    }
   ],
   "source": [
    "dataset.nunique()"
   ]
  },
  {
   "cell_type": "code",
   "execution_count": 7,
   "metadata": {},
   "outputs": [
    {
     "name": "stdout",
     "output_type": "stream",
     "text": [
      "<class 'pandas.core.frame.DataFrame'>\n",
      "RangeIndex: 143582 entries, 0 to 143581\n",
      "Data columns (total 4 columns):\n",
      " #   Column       Non-Null Count   Dtype \n",
      "---  ------       --------------   ----- \n",
      " 0   mac_address  143582 non-null  object\n",
      " 1   date         143582 non-null  object\n",
      " 2   day          143582 non-null  object\n",
      " 3   hour         143582 non-null  int64 \n",
      "dtypes: int64(1), object(3)\n",
      "memory usage: 4.4+ MB\n"
     ]
    }
   ],
   "source": [
    "dataset.info()"
   ]
  },
  {
   "cell_type": "code",
   "execution_count": 8,
   "metadata": {},
   "outputs": [
    {
     "data": {
      "text/html": [
       "<div>\n",
       "<style scoped>\n",
       "    .dataframe tbody tr th:only-of-type {\n",
       "        vertical-align: middle;\n",
       "    }\n",
       "\n",
       "    .dataframe tbody tr th {\n",
       "        vertical-align: top;\n",
       "    }\n",
       "\n",
       "    .dataframe thead th {\n",
       "        text-align: right;\n",
       "    }\n",
       "</style>\n",
       "<table border=\"1\" class=\"dataframe\">\n",
       "  <thead>\n",
       "    <tr style=\"text-align: right;\">\n",
       "      <th></th>\n",
       "      <th>mac_address</th>\n",
       "      <th>date</th>\n",
       "      <th>day</th>\n",
       "    </tr>\n",
       "  </thead>\n",
       "  <tbody>\n",
       "    <tr>\n",
       "      <th>count</th>\n",
       "      <td>143582</td>\n",
       "      <td>143582</td>\n",
       "      <td>143582</td>\n",
       "    </tr>\n",
       "    <tr>\n",
       "      <th>unique</th>\n",
       "      <td>111629</td>\n",
       "      <td>21</td>\n",
       "      <td>7</td>\n",
       "    </tr>\n",
       "    <tr>\n",
       "      <th>top</th>\n",
       "      <td>34:de:1a:98:af:8a</td>\n",
       "      <td>2022-4-22</td>\n",
       "      <td>Fri</td>\n",
       "    </tr>\n",
       "    <tr>\n",
       "      <th>freq</th>\n",
       "      <td>5830</td>\n",
       "      <td>13040</td>\n",
       "      <td>29807</td>\n",
       "    </tr>\n",
       "  </tbody>\n",
       "</table>\n",
       "</div>"
      ],
      "text/plain": [
       "              mac_address       date     day\n",
       "count              143582     143582  143582\n",
       "unique             111629         21       7\n",
       "top     34:de:1a:98:af:8a  2022-4-22     Fri\n",
       "freq                 5830      13040   29807"
      ]
     },
     "execution_count": 8,
     "metadata": {},
     "output_type": "execute_result"
    }
   ],
   "source": [
    "dataset.describe(include=object)"
   ]
  },
  {
   "cell_type": "markdown",
   "metadata": {},
   "source": [
    "## Eliminar os mac adresses repetidos em cada hora do dia"
   ]
  },
  {
   "cell_type": "code",
   "execution_count": 33,
   "metadata": {
    "scrolled": true
   },
   "outputs": [
    {
     "data": {
      "text/html": [
       "<div>\n",
       "<style scoped>\n",
       "    .dataframe tbody tr th:only-of-type {\n",
       "        vertical-align: middle;\n",
       "    }\n",
       "\n",
       "    .dataframe tbody tr th {\n",
       "        vertical-align: top;\n",
       "    }\n",
       "\n",
       "    .dataframe thead th {\n",
       "        text-align: right;\n",
       "    }\n",
       "</style>\n",
       "<table border=\"1\" class=\"dataframe\">\n",
       "  <thead>\n",
       "    <tr style=\"text-align: right;\">\n",
       "      <th></th>\n",
       "      <th>mac_address</th>\n",
       "      <th>date</th>\n",
       "      <th>day</th>\n",
       "      <th>hour</th>\n",
       "    </tr>\n",
       "  </thead>\n",
       "  <tbody>\n",
       "    <tr>\n",
       "      <th>0</th>\n",
       "      <td>6c:a6:04:8c:a7:16</td>\n",
       "      <td>2022-4-13</td>\n",
       "      <td>Wed</td>\n",
       "      <td>9</td>\n",
       "    </tr>\n",
       "    <tr>\n",
       "      <th>1</th>\n",
       "      <td>dc:9b:d6:4e:c8:e0</td>\n",
       "      <td>2022-4-13</td>\n",
       "      <td>Wed</td>\n",
       "      <td>9</td>\n",
       "    </tr>\n",
       "    <tr>\n",
       "      <th>2</th>\n",
       "      <td>6c:a6:04:8c:a7:16</td>\n",
       "      <td>2022-4-13</td>\n",
       "      <td>Wed</td>\n",
       "      <td>10</td>\n",
       "    </tr>\n",
       "    <tr>\n",
       "      <th>4</th>\n",
       "      <td>22:a5:89:b3:9e:fb</td>\n",
       "      <td>2022-4-13</td>\n",
       "      <td>Wed</td>\n",
       "      <td>10</td>\n",
       "    </tr>\n",
       "    <tr>\n",
       "      <th>6</th>\n",
       "      <td>4a:e5:a1:c8:63:97</td>\n",
       "      <td>2022-4-13</td>\n",
       "      <td>Wed</td>\n",
       "      <td>10</td>\n",
       "    </tr>\n",
       "    <tr>\n",
       "      <th>...</th>\n",
       "      <td>...</td>\n",
       "      <td>...</td>\n",
       "      <td>...</td>\n",
       "      <td>...</td>\n",
       "    </tr>\n",
       "    <tr>\n",
       "      <th>143576</th>\n",
       "      <td>96:34:eb:b1:de:29</td>\n",
       "      <td>2022-5-3</td>\n",
       "      <td>Tue</td>\n",
       "      <td>10</td>\n",
       "    </tr>\n",
       "    <tr>\n",
       "      <th>143577</th>\n",
       "      <td>a0:51:0b:4d:3e:ab</td>\n",
       "      <td>2022-5-3</td>\n",
       "      <td>Tue</td>\n",
       "      <td>10</td>\n",
       "    </tr>\n",
       "    <tr>\n",
       "      <th>143578</th>\n",
       "      <td>fe:c9:62:c2:d5:ad</td>\n",
       "      <td>2022-5-3</td>\n",
       "      <td>Tue</td>\n",
       "      <td>10</td>\n",
       "    </tr>\n",
       "    <tr>\n",
       "      <th>143579</th>\n",
       "      <td>4e:ac:e3:4b:70:5b</td>\n",
       "      <td>2022-5-3</td>\n",
       "      <td>Tue</td>\n",
       "      <td>10</td>\n",
       "    </tr>\n",
       "    <tr>\n",
       "      <th>143581</th>\n",
       "      <td>4e:ad:a6:7d:87:b4</td>\n",
       "      <td>2022-5-3</td>\n",
       "      <td>Tue</td>\n",
       "      <td>10</td>\n",
       "    </tr>\n",
       "  </tbody>\n",
       "</table>\n",
       "<p>115266 rows × 4 columns</p>\n",
       "</div>"
      ],
      "text/plain": [
       "              mac_address       date  day  hour\n",
       "0       6c:a6:04:8c:a7:16  2022-4-13  Wed     9\n",
       "1       dc:9b:d6:4e:c8:e0  2022-4-13  Wed     9\n",
       "2       6c:a6:04:8c:a7:16  2022-4-13  Wed    10\n",
       "4       22:a5:89:b3:9e:fb  2022-4-13  Wed    10\n",
       "6       4a:e5:a1:c8:63:97  2022-4-13  Wed    10\n",
       "...                   ...        ...  ...   ...\n",
       "143576  96:34:eb:b1:de:29   2022-5-3  Tue    10\n",
       "143577  a0:51:0b:4d:3e:ab   2022-5-3  Tue    10\n",
       "143578  fe:c9:62:c2:d5:ad   2022-5-3  Tue    10\n",
       "143579  4e:ac:e3:4b:70:5b   2022-5-3  Tue    10\n",
       "143581  4e:ad:a6:7d:87:b4   2022-5-3  Tue    10\n",
       "\n",
       "[115266 rows x 4 columns]"
      ]
     },
     "execution_count": 33,
     "metadata": {},
     "output_type": "execute_result"
    }
   ],
   "source": [
    "dataset = dataset.drop_duplicates()\n",
    "dataset"
   ]
  },
  {
   "cell_type": "code",
   "execution_count": 34,
   "metadata": {},
   "outputs": [
    {
     "data": {
      "text/html": [
       "<div>\n",
       "<style scoped>\n",
       "    .dataframe tbody tr th:only-of-type {\n",
       "        vertical-align: middle;\n",
       "    }\n",
       "\n",
       "    .dataframe tbody tr th {\n",
       "        vertical-align: top;\n",
       "    }\n",
       "\n",
       "    .dataframe thead th {\n",
       "        text-align: right;\n",
       "    }\n",
       "</style>\n",
       "<table border=\"1\" class=\"dataframe\">\n",
       "  <thead>\n",
       "    <tr style=\"text-align: right;\">\n",
       "      <th></th>\n",
       "      <th>mac_address</th>\n",
       "      <th>date</th>\n",
       "      <th>day</th>\n",
       "      <th>hour</th>\n",
       "    </tr>\n",
       "  </thead>\n",
       "  <tbody>\n",
       "    <tr>\n",
       "      <th>2</th>\n",
       "      <td>6c:a6:04:8c:a7:16</td>\n",
       "      <td>2022-4-13</td>\n",
       "      <td>Wed</td>\n",
       "      <td>10</td>\n",
       "    </tr>\n",
       "    <tr>\n",
       "      <th>4</th>\n",
       "      <td>22:a5:89:b3:9e:fb</td>\n",
       "      <td>2022-4-13</td>\n",
       "      <td>Wed</td>\n",
       "      <td>10</td>\n",
       "    </tr>\n",
       "    <tr>\n",
       "      <th>6</th>\n",
       "      <td>4a:e5:a1:c8:63:97</td>\n",
       "      <td>2022-4-13</td>\n",
       "      <td>Wed</td>\n",
       "      <td>10</td>\n",
       "    </tr>\n",
       "    <tr>\n",
       "      <th>11</th>\n",
       "      <td>da:a1:19:80:9d:78</td>\n",
       "      <td>2022-4-13</td>\n",
       "      <td>Wed</td>\n",
       "      <td>10</td>\n",
       "    </tr>\n",
       "    <tr>\n",
       "      <th>14</th>\n",
       "      <td>dc:9b:d6:4e:c8:e0</td>\n",
       "      <td>2022-4-13</td>\n",
       "      <td>Wed</td>\n",
       "      <td>10</td>\n",
       "    </tr>\n",
       "    <tr>\n",
       "      <th>18</th>\n",
       "      <td>80:a5:89:b3:9e:fb</td>\n",
       "      <td>2022-4-13</td>\n",
       "      <td>Wed</td>\n",
       "      <td>10</td>\n",
       "    </tr>\n",
       "    <tr>\n",
       "      <th>19</th>\n",
       "      <td>de:2f:d9:df:9a:69</td>\n",
       "      <td>2022-4-13</td>\n",
       "      <td>Wed</td>\n",
       "      <td>10</td>\n",
       "    </tr>\n",
       "    <tr>\n",
       "      <th>20</th>\n",
       "      <td>a6:e8:fc:5e:a3:61</td>\n",
       "      <td>2022-4-13</td>\n",
       "      <td>Wed</td>\n",
       "      <td>10</td>\n",
       "    </tr>\n",
       "    <tr>\n",
       "      <th>21</th>\n",
       "      <td>fe:80:10:63:c9:da</td>\n",
       "      <td>2022-4-13</td>\n",
       "      <td>Wed</td>\n",
       "      <td>10</td>\n",
       "    </tr>\n",
       "    <tr>\n",
       "      <th>22</th>\n",
       "      <td>36:d0:ef:b8:e9:98</td>\n",
       "      <td>2022-4-13</td>\n",
       "      <td>Wed</td>\n",
       "      <td>10</td>\n",
       "    </tr>\n",
       "    <tr>\n",
       "      <th>25</th>\n",
       "      <td>da:a1:19:86:db:74</td>\n",
       "      <td>2022-4-13</td>\n",
       "      <td>Wed</td>\n",
       "      <td>10</td>\n",
       "    </tr>\n",
       "    <tr>\n",
       "      <th>27</th>\n",
       "      <td>da:a1:19:7a:7e:95</td>\n",
       "      <td>2022-4-13</td>\n",
       "      <td>Wed</td>\n",
       "      <td>10</td>\n",
       "    </tr>\n",
       "    <tr>\n",
       "      <th>28</th>\n",
       "      <td>26:fe:22:7b:db:dd</td>\n",
       "      <td>2022-4-13</td>\n",
       "      <td>Wed</td>\n",
       "      <td>10</td>\n",
       "    </tr>\n",
       "    <tr>\n",
       "      <th>33</th>\n",
       "      <td>e6:3c:96:77:fc:1f</td>\n",
       "      <td>2022-4-13</td>\n",
       "      <td>Wed</td>\n",
       "      <td>10</td>\n",
       "    </tr>\n",
       "    <tr>\n",
       "      <th>48</th>\n",
       "      <td>a2:21:40:b6:6e:06</td>\n",
       "      <td>2022-4-13</td>\n",
       "      <td>Wed</td>\n",
       "      <td>10</td>\n",
       "    </tr>\n",
       "    <tr>\n",
       "      <th>50</th>\n",
       "      <td>ee:6f:4a:54:73:08</td>\n",
       "      <td>2022-4-13</td>\n",
       "      <td>Wed</td>\n",
       "      <td>10</td>\n",
       "    </tr>\n",
       "    <tr>\n",
       "      <th>54</th>\n",
       "      <td>9c:5a:44:e8:be:df</td>\n",
       "      <td>2022-4-13</td>\n",
       "      <td>Wed</td>\n",
       "      <td>10</td>\n",
       "    </tr>\n",
       "    <tr>\n",
       "      <th>72</th>\n",
       "      <td>32:b9:76:8f:4a:c7</td>\n",
       "      <td>2022-4-13</td>\n",
       "      <td>Wed</td>\n",
       "      <td>10</td>\n",
       "    </tr>\n",
       "    <tr>\n",
       "      <th>112</th>\n",
       "      <td>e2:10:cc:d4:94:06</td>\n",
       "      <td>2022-4-13</td>\n",
       "      <td>Wed</td>\n",
       "      <td>10</td>\n",
       "    </tr>\n",
       "    <tr>\n",
       "      <th>115</th>\n",
       "      <td>b2:c3:c9:47:f6:6c</td>\n",
       "      <td>2022-4-13</td>\n",
       "      <td>Wed</td>\n",
       "      <td>10</td>\n",
       "    </tr>\n",
       "    <tr>\n",
       "      <th>116</th>\n",
       "      <td>f6:61:05:b2:4d:93</td>\n",
       "      <td>2022-4-13</td>\n",
       "      <td>Wed</td>\n",
       "      <td>10</td>\n",
       "    </tr>\n",
       "    <tr>\n",
       "      <th>117</th>\n",
       "      <td>ca:b9:77:eb:9f:e1</td>\n",
       "      <td>2022-4-13</td>\n",
       "      <td>Wed</td>\n",
       "      <td>10</td>\n",
       "    </tr>\n",
       "    <tr>\n",
       "      <th>118</th>\n",
       "      <td>36:67:b2:30:dd:fd</td>\n",
       "      <td>2022-4-13</td>\n",
       "      <td>Wed</td>\n",
       "      <td>10</td>\n",
       "    </tr>\n",
       "    <tr>\n",
       "      <th>119</th>\n",
       "      <td>de:ff:38:86:7c:ed</td>\n",
       "      <td>2022-4-13</td>\n",
       "      <td>Wed</td>\n",
       "      <td>10</td>\n",
       "    </tr>\n",
       "    <tr>\n",
       "      <th>120</th>\n",
       "      <td>a6:ca:23:71:2d:95</td>\n",
       "      <td>2022-4-13</td>\n",
       "      <td>Wed</td>\n",
       "      <td>10</td>\n",
       "    </tr>\n",
       "    <tr>\n",
       "      <th>122</th>\n",
       "      <td>66:65:7f:61:bd:8b</td>\n",
       "      <td>2022-4-13</td>\n",
       "      <td>Wed</td>\n",
       "      <td>10</td>\n",
       "    </tr>\n",
       "    <tr>\n",
       "      <th>123</th>\n",
       "      <td>ea:d4:af:b2:16:d5</td>\n",
       "      <td>2022-4-13</td>\n",
       "      <td>Wed</td>\n",
       "      <td>10</td>\n",
       "    </tr>\n",
       "    <tr>\n",
       "      <th>124</th>\n",
       "      <td>1a:a1:5e:00:74:a5</td>\n",
       "      <td>2022-4-13</td>\n",
       "      <td>Wed</td>\n",
       "      <td>10</td>\n",
       "    </tr>\n",
       "    <tr>\n",
       "      <th>7647</th>\n",
       "      <td>dc:9b:d6:4e:c8:e0</td>\n",
       "      <td>2022-4-14</td>\n",
       "      <td>Thu</td>\n",
       "      <td>10</td>\n",
       "    </tr>\n",
       "    <tr>\n",
       "      <th>7648</th>\n",
       "      <td>ae:85:8c:40:dd:1c</td>\n",
       "      <td>2022-4-14</td>\n",
       "      <td>Thu</td>\n",
       "      <td>10</td>\n",
       "    </tr>\n",
       "  </tbody>\n",
       "</table>\n",
       "</div>"
      ],
      "text/plain": [
       "            mac_address       date  day  hour\n",
       "2     6c:a6:04:8c:a7:16  2022-4-13  Wed    10\n",
       "4     22:a5:89:b3:9e:fb  2022-4-13  Wed    10\n",
       "6     4a:e5:a1:c8:63:97  2022-4-13  Wed    10\n",
       "11    da:a1:19:80:9d:78  2022-4-13  Wed    10\n",
       "14    dc:9b:d6:4e:c8:e0  2022-4-13  Wed    10\n",
       "18    80:a5:89:b3:9e:fb  2022-4-13  Wed    10\n",
       "19    de:2f:d9:df:9a:69  2022-4-13  Wed    10\n",
       "20    a6:e8:fc:5e:a3:61  2022-4-13  Wed    10\n",
       "21    fe:80:10:63:c9:da  2022-4-13  Wed    10\n",
       "22    36:d0:ef:b8:e9:98  2022-4-13  Wed    10\n",
       "25    da:a1:19:86:db:74  2022-4-13  Wed    10\n",
       "27    da:a1:19:7a:7e:95  2022-4-13  Wed    10\n",
       "28    26:fe:22:7b:db:dd  2022-4-13  Wed    10\n",
       "33    e6:3c:96:77:fc:1f  2022-4-13  Wed    10\n",
       "48    a2:21:40:b6:6e:06  2022-4-13  Wed    10\n",
       "50    ee:6f:4a:54:73:08  2022-4-13  Wed    10\n",
       "54    9c:5a:44:e8:be:df  2022-4-13  Wed    10\n",
       "72    32:b9:76:8f:4a:c7  2022-4-13  Wed    10\n",
       "112   e2:10:cc:d4:94:06  2022-4-13  Wed    10\n",
       "115   b2:c3:c9:47:f6:6c  2022-4-13  Wed    10\n",
       "116   f6:61:05:b2:4d:93  2022-4-13  Wed    10\n",
       "117   ca:b9:77:eb:9f:e1  2022-4-13  Wed    10\n",
       "118   36:67:b2:30:dd:fd  2022-4-13  Wed    10\n",
       "119   de:ff:38:86:7c:ed  2022-4-13  Wed    10\n",
       "120   a6:ca:23:71:2d:95  2022-4-13  Wed    10\n",
       "122   66:65:7f:61:bd:8b  2022-4-13  Wed    10\n",
       "123   ea:d4:af:b2:16:d5  2022-4-13  Wed    10\n",
       "124   1a:a1:5e:00:74:a5  2022-4-13  Wed    10\n",
       "7647  dc:9b:d6:4e:c8:e0  2022-4-14  Thu    10\n",
       "7648  ae:85:8c:40:dd:1c  2022-4-14  Thu    10"
      ]
     },
     "execution_count": 34,
     "metadata": {},
     "output_type": "execute_result"
    }
   ],
   "source": [
    "macs_13_04_10h = dataset.loc[lambda dataset: dataset['hour'] == 10]\n",
    "macs_13_04_10h.head(30)"
   ]
  },
  {
   "cell_type": "markdown",
   "metadata": {},
   "source": [
    "# Contar quantos aparelhos diferentes apareceram em cada hora"
   ]
  },
  {
   "cell_type": "code",
   "execution_count": 35,
   "metadata": {},
   "outputs": [
    {
     "name": "stdout",
     "output_type": "stream",
     "text": [
      "[2, 28, 51, 64, 233, 112, 360, 872, 752, 664, 714, 586, 512, 501, 379, 89, 5, 2, 3, 1]\n"
     ]
    }
   ],
   "source": [
    "unique_macs = {}\n",
    "np_dataset = dataset.values[:,:]\n",
    "\n",
    "for line in np_dataset:\n",
    "    key = line[1] + '|' + str(line[3])\n",
    "    unique_macs.setdefault(key,0)\n",
    "    unique_macs[key] += 1\n",
    "    \n",
    "print(list(unique_macs.values())[:20])"
   ]
  },
  {
   "cell_type": "markdown",
   "metadata": {},
   "source": [
    "# Adicionar a contagem dos mac addresses ao dataset"
   ]
  },
  {
   "cell_type": "code",
   "execution_count": 36,
   "metadata": {},
   "outputs": [
    {
     "data": {
      "text/html": [
       "<div>\n",
       "<style scoped>\n",
       "    .dataframe tbody tr th:only-of-type {\n",
       "        vertical-align: middle;\n",
       "    }\n",
       "\n",
       "    .dataframe tbody tr th {\n",
       "        vertical-align: top;\n",
       "    }\n",
       "\n",
       "    .dataframe thead th {\n",
       "        text-align: right;\n",
       "    }\n",
       "</style>\n",
       "<table border=\"1\" class=\"dataframe\">\n",
       "  <thead>\n",
       "    <tr style=\"text-align: right;\">\n",
       "      <th></th>\n",
       "      <th>mac_count</th>\n",
       "      <th>date</th>\n",
       "      <th>day</th>\n",
       "      <th>hour</th>\n",
       "    </tr>\n",
       "  </thead>\n",
       "  <tbody>\n",
       "    <tr>\n",
       "      <th>0</th>\n",
       "      <td>2.0</td>\n",
       "      <td>2022-4-13</td>\n",
       "      <td>Wed</td>\n",
       "      <td>9</td>\n",
       "    </tr>\n",
       "    <tr>\n",
       "      <th>2</th>\n",
       "      <td>28.0</td>\n",
       "      <td>2022-4-13</td>\n",
       "      <td>Wed</td>\n",
       "      <td>10</td>\n",
       "    </tr>\n",
       "    <tr>\n",
       "      <th>30</th>\n",
       "      <td>51.0</td>\n",
       "      <td>2022-4-13</td>\n",
       "      <td>Wed</td>\n",
       "      <td>11</td>\n",
       "    </tr>\n",
       "    <tr>\n",
       "      <th>81</th>\n",
       "      <td>64.0</td>\n",
       "      <td>2022-4-13</td>\n",
       "      <td>Wed</td>\n",
       "      <td>12</td>\n",
       "    </tr>\n",
       "    <tr>\n",
       "      <th>145</th>\n",
       "      <td>233.0</td>\n",
       "      <td>2022-4-13</td>\n",
       "      <td>Wed</td>\n",
       "      <td>13</td>\n",
       "    </tr>\n",
       "    <tr>\n",
       "      <th>...</th>\n",
       "      <td>...</td>\n",
       "      <td>...</td>\n",
       "      <td>...</td>\n",
       "      <td>...</td>\n",
       "    </tr>\n",
       "    <tr>\n",
       "      <th>114982</th>\n",
       "      <td>4.0</td>\n",
       "      <td>2022-5-3</td>\n",
       "      <td>Tue</td>\n",
       "      <td>6</td>\n",
       "    </tr>\n",
       "    <tr>\n",
       "      <th>114986</th>\n",
       "      <td>5.0</td>\n",
       "      <td>2022-5-3</td>\n",
       "      <td>Tue</td>\n",
       "      <td>7</td>\n",
       "    </tr>\n",
       "    <tr>\n",
       "      <th>114991</th>\n",
       "      <td>22.0</td>\n",
       "      <td>2022-5-3</td>\n",
       "      <td>Tue</td>\n",
       "      <td>8</td>\n",
       "    </tr>\n",
       "    <tr>\n",
       "      <th>115013</th>\n",
       "      <td>134.0</td>\n",
       "      <td>2022-5-3</td>\n",
       "      <td>Tue</td>\n",
       "      <td>9</td>\n",
       "    </tr>\n",
       "    <tr>\n",
       "      <th>115147</th>\n",
       "      <td>119.0</td>\n",
       "      <td>2022-5-3</td>\n",
       "      <td>Tue</td>\n",
       "      <td>10</td>\n",
       "    </tr>\n",
       "  </tbody>\n",
       "</table>\n",
       "<p>463 rows × 4 columns</p>\n",
       "</div>"
      ],
      "text/plain": [
       "        mac_count       date  day hour\n",
       "0             2.0  2022-4-13  Wed    9\n",
       "2            28.0  2022-4-13  Wed   10\n",
       "30           51.0  2022-4-13  Wed   11\n",
       "81           64.0  2022-4-13  Wed   12\n",
       "145         233.0  2022-4-13  Wed   13\n",
       "...           ...        ...  ...  ...\n",
       "114982        4.0   2022-5-3  Tue    6\n",
       "114986        5.0   2022-5-3  Tue    7\n",
       "114991       22.0   2022-5-3  Tue    8\n",
       "115013      134.0   2022-5-3  Tue    9\n",
       "115147      119.0   2022-5-3  Tue   10\n",
       "\n",
       "[463 rows x 4 columns]"
      ]
     },
     "execution_count": 36,
     "metadata": {},
     "output_type": "execute_result"
    }
   ],
   "source": [
    "for i in range(len(np_dataset)):\n",
    "    key = np_dataset[i][1] + '|' + str(np_dataset[i][3])\n",
    "    np_dataset[i] = [unique_macs.get(key), np_dataset[i][1], np_dataset[i][2], np_dataset[i][3]]\n",
    "    \n",
    "columns = ['mac_count', 'date', 'day', 'hour']\n",
    "dataset = pd.DataFrame(np_dataset, columns=columns)\n",
    "dataset = dataset.drop_duplicates()\n",
    "dataset['mac_count'] = dataset['mac_count'].astype('float32')\n",
    "dataset"
   ]
  },
  {
   "cell_type": "markdown",
   "metadata": {},
   "source": [
    "## Separar as informações da data e adicionar nova informação sobre a mesma"
   ]
  },
  {
   "cell_type": "code",
   "execution_count": 37,
   "metadata": {},
   "outputs": [
    {
     "data": {
      "text/html": [
       "<div>\n",
       "<style scoped>\n",
       "    .dataframe tbody tr th:only-of-type {\n",
       "        vertical-align: middle;\n",
       "    }\n",
       "\n",
       "    .dataframe tbody tr th {\n",
       "        vertical-align: top;\n",
       "    }\n",
       "\n",
       "    .dataframe thead th {\n",
       "        text-align: right;\n",
       "    }\n",
       "</style>\n",
       "<table border=\"1\" class=\"dataframe\">\n",
       "  <thead>\n",
       "    <tr style=\"text-align: right;\">\n",
       "      <th></th>\n",
       "      <th>mac_count</th>\n",
       "      <th>day</th>\n",
       "      <th>hour</th>\n",
       "      <th>month</th>\n",
       "      <th>day_number</th>\n",
       "    </tr>\n",
       "  </thead>\n",
       "  <tbody>\n",
       "    <tr>\n",
       "      <th>0</th>\n",
       "      <td>2.0</td>\n",
       "      <td>Wed</td>\n",
       "      <td>9</td>\n",
       "      <td>4</td>\n",
       "      <td>13</td>\n",
       "    </tr>\n",
       "    <tr>\n",
       "      <th>2</th>\n",
       "      <td>28.0</td>\n",
       "      <td>Wed</td>\n",
       "      <td>10</td>\n",
       "      <td>4</td>\n",
       "      <td>13</td>\n",
       "    </tr>\n",
       "    <tr>\n",
       "      <th>30</th>\n",
       "      <td>51.0</td>\n",
       "      <td>Wed</td>\n",
       "      <td>11</td>\n",
       "      <td>4</td>\n",
       "      <td>13</td>\n",
       "    </tr>\n",
       "    <tr>\n",
       "      <th>81</th>\n",
       "      <td>64.0</td>\n",
       "      <td>Wed</td>\n",
       "      <td>12</td>\n",
       "      <td>4</td>\n",
       "      <td>13</td>\n",
       "    </tr>\n",
       "    <tr>\n",
       "      <th>145</th>\n",
       "      <td>233.0</td>\n",
       "      <td>Wed</td>\n",
       "      <td>13</td>\n",
       "      <td>4</td>\n",
       "      <td>13</td>\n",
       "    </tr>\n",
       "    <tr>\n",
       "      <th>...</th>\n",
       "      <td>...</td>\n",
       "      <td>...</td>\n",
       "      <td>...</td>\n",
       "      <td>...</td>\n",
       "      <td>...</td>\n",
       "    </tr>\n",
       "    <tr>\n",
       "      <th>114982</th>\n",
       "      <td>4.0</td>\n",
       "      <td>Tue</td>\n",
       "      <td>6</td>\n",
       "      <td>5</td>\n",
       "      <td>3</td>\n",
       "    </tr>\n",
       "    <tr>\n",
       "      <th>114986</th>\n",
       "      <td>5.0</td>\n",
       "      <td>Tue</td>\n",
       "      <td>7</td>\n",
       "      <td>5</td>\n",
       "      <td>3</td>\n",
       "    </tr>\n",
       "    <tr>\n",
       "      <th>114991</th>\n",
       "      <td>22.0</td>\n",
       "      <td>Tue</td>\n",
       "      <td>8</td>\n",
       "      <td>5</td>\n",
       "      <td>3</td>\n",
       "    </tr>\n",
       "    <tr>\n",
       "      <th>115013</th>\n",
       "      <td>134.0</td>\n",
       "      <td>Tue</td>\n",
       "      <td>9</td>\n",
       "      <td>5</td>\n",
       "      <td>3</td>\n",
       "    </tr>\n",
       "    <tr>\n",
       "      <th>115147</th>\n",
       "      <td>119.0</td>\n",
       "      <td>Tue</td>\n",
       "      <td>10</td>\n",
       "      <td>5</td>\n",
       "      <td>3</td>\n",
       "    </tr>\n",
       "  </tbody>\n",
       "</table>\n",
       "<p>463 rows × 5 columns</p>\n",
       "</div>"
      ],
      "text/plain": [
       "        mac_count  day hour  month  day_number\n",
       "0             2.0  Wed    9      4          13\n",
       "2            28.0  Wed   10      4          13\n",
       "30           51.0  Wed   11      4          13\n",
       "81           64.0  Wed   12      4          13\n",
       "145         233.0  Wed   13      4          13\n",
       "...           ...  ...  ...    ...         ...\n",
       "114982        4.0  Tue    6      5           3\n",
       "114986        5.0  Tue    7      5           3\n",
       "114991       22.0  Tue    8      5           3\n",
       "115013      134.0  Tue    9      5           3\n",
       "115147      119.0  Tue   10      5           3\n",
       "\n",
       "[463 rows x 5 columns]"
      ]
     },
     "execution_count": 37,
     "metadata": {},
     "output_type": "execute_result"
    }
   ],
   "source": [
    "dataset.date = pd.to_datetime(dataset.date)\n",
    "dataset['month'] = dataset.date.dt.month\n",
    "dataset['day_number'] = dataset.date.dt.day\n",
    "dataset.drop(\"date\", axis=1, inplace=True)\n",
    "dataset"
   ]
  },
  {
   "cell_type": "code",
   "execution_count": 38,
   "metadata": {},
   "outputs": [
    {
     "data": {
      "text/html": [
       "<div>\n",
       "<style scoped>\n",
       "    .dataframe tbody tr th:only-of-type {\n",
       "        vertical-align: middle;\n",
       "    }\n",
       "\n",
       "    .dataframe tbody tr th {\n",
       "        vertical-align: top;\n",
       "    }\n",
       "\n",
       "    .dataframe thead th {\n",
       "        text-align: right;\n",
       "    }\n",
       "</style>\n",
       "<table border=\"1\" class=\"dataframe\">\n",
       "  <thead>\n",
       "    <tr style=\"text-align: right;\">\n",
       "      <th></th>\n",
       "      <th>mac_count</th>\n",
       "      <th>day</th>\n",
       "      <th>hour</th>\n",
       "      <th>month</th>\n",
       "      <th>day_number</th>\n",
       "      <th>day_part</th>\n",
       "    </tr>\n",
       "  </thead>\n",
       "  <tbody>\n",
       "    <tr>\n",
       "      <th>0</th>\n",
       "      <td>2.0</td>\n",
       "      <td>Wed</td>\n",
       "      <td>9</td>\n",
       "      <td>4</td>\n",
       "      <td>13</td>\n",
       "      <td>morning</td>\n",
       "    </tr>\n",
       "    <tr>\n",
       "      <th>2</th>\n",
       "      <td>28.0</td>\n",
       "      <td>Wed</td>\n",
       "      <td>10</td>\n",
       "      <td>4</td>\n",
       "      <td>13</td>\n",
       "      <td>morning</td>\n",
       "    </tr>\n",
       "    <tr>\n",
       "      <th>30</th>\n",
       "      <td>51.0</td>\n",
       "      <td>Wed</td>\n",
       "      <td>11</td>\n",
       "      <td>4</td>\n",
       "      <td>13</td>\n",
       "      <td>morning</td>\n",
       "    </tr>\n",
       "    <tr>\n",
       "      <th>81</th>\n",
       "      <td>64.0</td>\n",
       "      <td>Wed</td>\n",
       "      <td>12</td>\n",
       "      <td>4</td>\n",
       "      <td>13</td>\n",
       "      <td>afternoon</td>\n",
       "    </tr>\n",
       "    <tr>\n",
       "      <th>145</th>\n",
       "      <td>233.0</td>\n",
       "      <td>Wed</td>\n",
       "      <td>13</td>\n",
       "      <td>4</td>\n",
       "      <td>13</td>\n",
       "      <td>afternoon</td>\n",
       "    </tr>\n",
       "    <tr>\n",
       "      <th>...</th>\n",
       "      <td>...</td>\n",
       "      <td>...</td>\n",
       "      <td>...</td>\n",
       "      <td>...</td>\n",
       "      <td>...</td>\n",
       "      <td>...</td>\n",
       "    </tr>\n",
       "    <tr>\n",
       "      <th>114982</th>\n",
       "      <td>4.0</td>\n",
       "      <td>Tue</td>\n",
       "      <td>6</td>\n",
       "      <td>5</td>\n",
       "      <td>3</td>\n",
       "      <td>dawn</td>\n",
       "    </tr>\n",
       "    <tr>\n",
       "      <th>114986</th>\n",
       "      <td>5.0</td>\n",
       "      <td>Tue</td>\n",
       "      <td>7</td>\n",
       "      <td>5</td>\n",
       "      <td>3</td>\n",
       "      <td>dawn</td>\n",
       "    </tr>\n",
       "    <tr>\n",
       "      <th>114991</th>\n",
       "      <td>22.0</td>\n",
       "      <td>Tue</td>\n",
       "      <td>8</td>\n",
       "      <td>5</td>\n",
       "      <td>3</td>\n",
       "      <td>dawn</td>\n",
       "    </tr>\n",
       "    <tr>\n",
       "      <th>115013</th>\n",
       "      <td>134.0</td>\n",
       "      <td>Tue</td>\n",
       "      <td>9</td>\n",
       "      <td>5</td>\n",
       "      <td>3</td>\n",
       "      <td>morning</td>\n",
       "    </tr>\n",
       "    <tr>\n",
       "      <th>115147</th>\n",
       "      <td>119.0</td>\n",
       "      <td>Tue</td>\n",
       "      <td>10</td>\n",
       "      <td>5</td>\n",
       "      <td>3</td>\n",
       "      <td>morning</td>\n",
       "    </tr>\n",
       "  </tbody>\n",
       "</table>\n",
       "<p>463 rows × 6 columns</p>\n",
       "</div>"
      ],
      "text/plain": [
       "        mac_count  day hour  month  day_number   day_part\n",
       "0             2.0  Wed    9      4          13    morning\n",
       "2            28.0  Wed   10      4          13    morning\n",
       "30           51.0  Wed   11      4          13    morning\n",
       "81           64.0  Wed   12      4          13  afternoon\n",
       "145         233.0  Wed   13      4          13  afternoon\n",
       "...           ...  ...  ...    ...         ...        ...\n",
       "114982        4.0  Tue    6      5           3       dawn\n",
       "114986        5.0  Tue    7      5           3       dawn\n",
       "114991       22.0  Tue    8      5           3       dawn\n",
       "115013      134.0  Tue    9      5           3    morning\n",
       "115147      119.0  Tue   10      5           3    morning\n",
       "\n",
       "[463 rows x 6 columns]"
      ]
     },
     "execution_count": 38,
     "metadata": {},
     "output_type": "execute_result"
    }
   ],
   "source": [
    "def daypart(h):\n",
    "    if h >= 0 and h <= 8:\n",
    "        return \"dawn\"\n",
    "    elif h > 8 and h < 12:\n",
    "        return \"morning\"\n",
    "    elif h >= 12 and h < 20:\n",
    "        return \"afternoon\"\n",
    "    else:\n",
    "        return \"night\"\n",
    "    \n",
    "dataset['day_part'] = dataset['hour'].apply(daypart) \n",
    "dataset"
   ]
  },
  {
   "cell_type": "code",
   "execution_count": 39,
   "metadata": {},
   "outputs": [
    {
     "name": "stdout",
     "output_type": "stream",
     "text": [
      "        mac_count  day hour  month  day_number   day_part  is_holiday_eve\n",
      "105438      873.0  Sun    0      5           1       dawn               1\n",
      "106311      390.0  Sun    1      5           1       dawn               1\n",
      "106701       16.0  Sun    2      5           1       dawn               1\n",
      "106717        2.0  Sun    3      5           1       dawn               1\n",
      "106719        7.0  Sun    4      5           1       dawn               1\n",
      "106726        1.0  Sun    5      5           1       dawn               1\n",
      "106727        1.0  Sun    6      5           1       dawn               1\n",
      "106728        3.0  Sun    7      5           1       dawn               1\n",
      "106731        1.0  Sun    8      5           1       dawn               1\n",
      "106732        1.0  Sun    9      5           1    morning               1\n",
      "106733        3.0  Sun   10      5           1    morning               1\n",
      "106736       10.0  Sun   11      5           1    morning               1\n",
      "106746        4.0  Sun   12      5           1  afternoon               1\n",
      "106750        3.0  Sun   13      5           1  afternoon               1\n",
      "106753        3.0  Sun   14      5           1  afternoon               1\n",
      "106756        1.0  Sun   15      5           1  afternoon               1\n",
      "106757        3.0  Sun   16      5           1  afternoon               1\n",
      "106760        1.0  Sun   17      5           1  afternoon               1\n",
      "106761        3.0  Sun   18      5           1  afternoon               1\n",
      "106764        9.0  Sun   19      5           1  afternoon               1\n",
      "106773        4.0  Sun   20      5           1      night               1\n",
      "106777        3.0  Sun   21      5           1      night               1\n",
      "106780        1.0  Sun   23      5           1      night               1\n"
     ]
    }
   ],
   "source": [
    "dataset['is_holiday_eve'] = 0\n",
    "#sexta feira santa\n",
    "dataset.loc[(dataset['day_number'] == 15) & (dataset['month'] == 4), 'is_holiday_eve'] = 1\n",
    "#pascoa\n",
    "dataset.loc[(dataset['day_number'] == 17) & (dataset['month'] == 4), 'is_holiday_eve'] = 1\n",
    "#25 de abril\n",
    "dataset.loc[(dataset['day_number'] == 25) & (dataset['month'] == 4), 'is_holiday_eve'] = 1\n",
    "#dia do trabalhador\n",
    "dataset.loc[(dataset['day_number'] == 1) & (dataset['month'] == 5), 'is_holiday_eve'] = 1\n",
    "print(dataset.loc[dataset['day_number'] == 1])"
   ]
  },
  {
   "cell_type": "markdown",
   "metadata": {},
   "source": [
    "# Visualização dos dados"
   ]
  },
  {
   "cell_type": "code",
   "execution_count": 40,
   "metadata": {},
   "outputs": [
    {
     "data": {
      "text/plain": [
       "count     463.000000\n",
       "mean      248.954651\n",
       "std       292.710541\n",
       "min         1.000000\n",
       "25%         8.000000\n",
       "50%        83.000000\n",
       "75%       460.000000\n",
       "max      1107.000000\n",
       "Name: mac_count, dtype: float64"
      ]
     },
     "execution_count": 40,
     "metadata": {},
     "output_type": "execute_result"
    }
   ],
   "source": [
    "dataset['mac_count'].describe()"
   ]
  },
  {
   "cell_type": "code",
   "execution_count": 17,
   "metadata": {},
   "outputs": [
    {
     "data": {
      "text/html": [
       "<div>\n",
       "<style scoped>\n",
       "    .dataframe tbody tr th:only-of-type {\n",
       "        vertical-align: middle;\n",
       "    }\n",
       "\n",
       "    .dataframe tbody tr th {\n",
       "        vertical-align: top;\n",
       "    }\n",
       "\n",
       "    .dataframe thead th {\n",
       "        text-align: right;\n",
       "    }\n",
       "</style>\n",
       "<table border=\"1\" class=\"dataframe\">\n",
       "  <thead>\n",
       "    <tr style=\"text-align: right;\">\n",
       "      <th></th>\n",
       "      <th>mac_count</th>\n",
       "      <th>day</th>\n",
       "      <th>hour</th>\n",
       "      <th>month</th>\n",
       "      <th>day_number</th>\n",
       "      <th>day_part</th>\n",
       "      <th>is_holiday_eve</th>\n",
       "    </tr>\n",
       "  </thead>\n",
       "  <tbody>\n",
       "    <tr>\n",
       "      <th>94314</th>\n",
       "      <td>1107.0</td>\n",
       "      <td>Fri</td>\n",
       "      <td>16</td>\n",
       "      <td>4</td>\n",
       "      <td>29</td>\n",
       "      <td>afternoon</td>\n",
       "      <td>0</td>\n",
       "    </tr>\n",
       "  </tbody>\n",
       "</table>\n",
       "</div>"
      ],
      "text/plain": [
       "       mac_count  day hour  month  day_number   day_part  is_holiday_eve\n",
       "94314     1107.0  Fri   16      4          29  afternoon               0"
      ]
     },
     "execution_count": 17,
     "metadata": {},
     "output_type": "execute_result"
    }
   ],
   "source": [
    "dataset.loc[dataset['mac_count'] == 1107]"
   ]
  },
  {
   "cell_type": "code",
   "execution_count": 18,
   "metadata": {},
   "outputs": [
    {
     "data": {
      "text/plain": [
       "hour\n",
       "0     482.352936\n",
       "1     464.200012\n",
       "2      41.549999\n",
       "3      10.700000\n",
       "4       8.550000\n",
       "5       5.200000\n",
       "6       6.750000\n",
       "7       8.700000\n",
       "8      22.150000\n",
       "9      56.285713\n",
       "10    120.190475\n",
       "11    230.300003\n",
       "12    191.600006\n",
       "13    253.750000\n",
       "14    328.421051\n",
       "15    348.421051\n",
       "16    405.222229\n",
       "17    469.277771\n",
       "18    489.277771\n",
       "19    485.166656\n",
       "20    403.555542\n",
       "21    396.333344\n",
       "22    543.947388\n",
       "23    400.894745\n",
       "Name: mac_count, dtype: float32"
      ]
     },
     "execution_count": 18,
     "metadata": {},
     "output_type": "execute_result"
    }
   ],
   "source": [
    "dataset.groupby(['hour'])['mac_count'].mean()"
   ]
  },
  {
   "cell_type": "code",
   "execution_count": 19,
   "metadata": {},
   "outputs": [
    {
     "data": {
      "text/plain": [
       "day\n",
       "Fri    334.625000\n",
       "Mon    237.263885\n",
       "Sat    162.968750\n",
       "Sun     65.492958\n",
       "Thu    285.347839\n",
       "Tue    288.867920\n",
       "Wed    387.274200\n",
       "Name: mac_count, dtype: float32"
      ]
     },
     "execution_count": 19,
     "metadata": {},
     "output_type": "execute_result"
    }
   ],
   "source": [
    "dataset.groupby(['day'])['mac_count'].mean()"
   ]
  },
  {
   "cell_type": "code",
   "execution_count": 20,
   "metadata": {},
   "outputs": [
    {
     "data": {
      "text/plain": [
       "day_part\n",
       "afternoon    366.986664\n",
       "dawn         110.485878\n",
       "morning      134.064514\n",
       "night        437.162170\n",
       "Name: mac_count, dtype: float32"
      ]
     },
     "execution_count": 20,
     "metadata": {},
     "output_type": "execute_result"
    }
   ],
   "source": [
    "dataset.groupby(['day_part'])['mac_count'].mean()"
   ]
  },
  {
   "cell_type": "code",
   "execution_count": 21,
   "metadata": {},
   "outputs": [
    {
     "data": {
      "image/png": "[encoded data removed]",
      "text/plain": [
       "<Figure size 432x288 with 1 Axes>"
      ]
     },
     "metadata": {
      "needs_background": "light"
     },
     "output_type": "display_data"
    }
   ],
   "source": [
    "_ = dataset.plot.scatter(x='hour', y='mac_count')"
   ]
  },
  {
   "cell_type": "code",
   "execution_count": 22,
   "metadata": {},
   "outputs": [
    {
     "data": {
      "image/png": "[encoded data removed]",
      "text/plain": [
       "<Figure size 432x288 with 1 Axes>"
      ]
     },
     "metadata": {
      "needs_background": "light"
     },
     "output_type": "display_data"
    }
   ],
   "source": [
    "_ = dataset.plot.scatter(x='day', y='mac_count')"
   ]
  },
  {
   "cell_type": "code",
   "execution_count": 23,
   "metadata": {},
   "outputs": [
    {
     "data": {
      "image/png": "[encoded data removed]",
      "text/plain": [
       "<Figure size 432x288 with 1 Axes>"
      ]
     },
     "metadata": {
      "needs_background": "light"
     },
     "output_type": "display_data"
    }
   ],
   "source": [
    "_ = dataset.plot.scatter(x='month', y='mac_count')"
   ]
  },
  {
   "cell_type": "code",
   "execution_count": 24,
   "metadata": {},
   "outputs": [
    {
     "data": {
      "image/png": "[encoded data removed]",
      "text/plain": [
       "<Figure size 432x288 with 1 Axes>"
      ]
     },
     "metadata": {
      "needs_background": "light"
     },
     "output_type": "display_data"
    }
   ],
   "source": [
    "_ = dataset.plot.scatter(x='day_part', y='mac_count')"
   ]
  },
  {
   "cell_type": "code",
   "execution_count": 25,
   "metadata": {},
   "outputs": [
    {
     "data": {
      "text/plain": [
       "<AxesSubplot:xlabel='mac_count', ylabel='Count'>"
      ]
     },
     "execution_count": 25,
     "metadata": {},
     "output_type": "execute_result"
    },
    {
     "data": {
      "image/png": "[encoded data removed]",
      "text/plain": [
       "<Figure size 432x288 with 1 Axes>"
      ]
     },
     "metadata": {
      "needs_background": "light"
     },
     "output_type": "display_data"
    }
   ],
   "source": [
    "sns.histplot(dataset['mac_count'], kde=True)"
   ]
  },
  {
   "cell_type": "code",
   "execution_count": 26,
   "metadata": {},
   "outputs": [
    {
     "data": {
      "text/plain": [
       "<AxesSubplot:xlabel='month', ylabel='Count'>"
      ]
     },
     "execution_count": 26,
     "metadata": {},
     "output_type": "execute_result"
    },
    {
     "data": {
      "image/png": "[encoded data removed]",
      "text/plain": [
       "<Figure size 432x288 with 1 Axes>"
      ]
     },
     "metadata": {
      "needs_background": "light"
     },
     "output_type": "display_data"
    }
   ],
   "source": [
    "sns.histplot(dataset['month'], kde=True)"
   ]
  },
  {
   "cell_type": "code",
   "execution_count": 27,
   "metadata": {},
   "outputs": [
    {
     "data": {
      "text/plain": [
       "<AxesSubplot:xlabel='hour', ylabel='Count'>"
      ]
     },
     "execution_count": 27,
     "metadata": {},
     "output_type": "execute_result"
    },
    {
     "data": {
      "image/png": "[encoded data removed]",
      "text/plain": [
       "<Figure size 432x288 with 1 Axes>"
      ]
     },
     "metadata": {
      "needs_background": "light"
     },
     "output_type": "display_data"
    }
   ],
   "source": [
    "sns.histplot(dataset['hour'], kde=True)"
   ]
  },
  {
   "cell_type": "markdown",
   "metadata": {},
   "source": [
    "# Preparar os dados para o modelo"
   ]
  },
  {
   "cell_type": "code",
   "execution_count": 41,
   "metadata": {},
   "outputs": [
    {
     "data": {
      "text/html": [
       "<div>\n",
       "<style scoped>\n",
       "    .dataframe tbody tr th:only-of-type {\n",
       "        vertical-align: middle;\n",
       "    }\n",
       "\n",
       "    .dataframe tbody tr th {\n",
       "        vertical-align: top;\n",
       "    }\n",
       "\n",
       "    .dataframe thead th {\n",
       "        text-align: right;\n",
       "    }\n",
       "</style>\n",
       "<table border=\"1\" class=\"dataframe\">\n",
       "  <thead>\n",
       "    <tr style=\"text-align: right;\">\n",
       "      <th></th>\n",
       "      <th>mac_count</th>\n",
       "      <th>day</th>\n",
       "      <th>hour</th>\n",
       "      <th>month</th>\n",
       "      <th>day_number</th>\n",
       "      <th>day_part</th>\n",
       "      <th>is_holiday_eve</th>\n",
       "    </tr>\n",
       "  </thead>\n",
       "  <tbody>\n",
       "    <tr>\n",
       "      <th>0</th>\n",
       "      <td>2.0</td>\n",
       "      <td>6</td>\n",
       "      <td>9</td>\n",
       "      <td>4</td>\n",
       "      <td>13</td>\n",
       "      <td>2</td>\n",
       "      <td>0</td>\n",
       "    </tr>\n",
       "    <tr>\n",
       "      <th>2</th>\n",
       "      <td>28.0</td>\n",
       "      <td>6</td>\n",
       "      <td>10</td>\n",
       "      <td>4</td>\n",
       "      <td>13</td>\n",
       "      <td>2</td>\n",
       "      <td>0</td>\n",
       "    </tr>\n",
       "    <tr>\n",
       "      <th>30</th>\n",
       "      <td>51.0</td>\n",
       "      <td>6</td>\n",
       "      <td>11</td>\n",
       "      <td>4</td>\n",
       "      <td>13</td>\n",
       "      <td>2</td>\n",
       "      <td>0</td>\n",
       "    </tr>\n",
       "    <tr>\n",
       "      <th>81</th>\n",
       "      <td>64.0</td>\n",
       "      <td>6</td>\n",
       "      <td>12</td>\n",
       "      <td>4</td>\n",
       "      <td>13</td>\n",
       "      <td>0</td>\n",
       "      <td>0</td>\n",
       "    </tr>\n",
       "    <tr>\n",
       "      <th>145</th>\n",
       "      <td>233.0</td>\n",
       "      <td>6</td>\n",
       "      <td>13</td>\n",
       "      <td>4</td>\n",
       "      <td>13</td>\n",
       "      <td>0</td>\n",
       "      <td>0</td>\n",
       "    </tr>\n",
       "    <tr>\n",
       "      <th>...</th>\n",
       "      <td>...</td>\n",
       "      <td>...</td>\n",
       "      <td>...</td>\n",
       "      <td>...</td>\n",
       "      <td>...</td>\n",
       "      <td>...</td>\n",
       "      <td>...</td>\n",
       "    </tr>\n",
       "    <tr>\n",
       "      <th>114982</th>\n",
       "      <td>4.0</td>\n",
       "      <td>5</td>\n",
       "      <td>6</td>\n",
       "      <td>5</td>\n",
       "      <td>3</td>\n",
       "      <td>1</td>\n",
       "      <td>0</td>\n",
       "    </tr>\n",
       "    <tr>\n",
       "      <th>114986</th>\n",
       "      <td>5.0</td>\n",
       "      <td>5</td>\n",
       "      <td>7</td>\n",
       "      <td>5</td>\n",
       "      <td>3</td>\n",
       "      <td>1</td>\n",
       "      <td>0</td>\n",
       "    </tr>\n",
       "    <tr>\n",
       "      <th>114991</th>\n",
       "      <td>22.0</td>\n",
       "      <td>5</td>\n",
       "      <td>8</td>\n",
       "      <td>5</td>\n",
       "      <td>3</td>\n",
       "      <td>1</td>\n",
       "      <td>0</td>\n",
       "    </tr>\n",
       "    <tr>\n",
       "      <th>115013</th>\n",
       "      <td>134.0</td>\n",
       "      <td>5</td>\n",
       "      <td>9</td>\n",
       "      <td>5</td>\n",
       "      <td>3</td>\n",
       "      <td>2</td>\n",
       "      <td>0</td>\n",
       "    </tr>\n",
       "    <tr>\n",
       "      <th>115147</th>\n",
       "      <td>119.0</td>\n",
       "      <td>5</td>\n",
       "      <td>10</td>\n",
       "      <td>5</td>\n",
       "      <td>3</td>\n",
       "      <td>2</td>\n",
       "      <td>0</td>\n",
       "    </tr>\n",
       "  </tbody>\n",
       "</table>\n",
       "<p>463 rows × 7 columns</p>\n",
       "</div>"
      ],
      "text/plain": [
       "        mac_count  day hour  month  day_number  day_part  is_holiday_eve\n",
       "0             2.0    6    9      4          13         2               0\n",
       "2            28.0    6   10      4          13         2               0\n",
       "30           51.0    6   11      4          13         2               0\n",
       "81           64.0    6   12      4          13         0               0\n",
       "145         233.0    6   13      4          13         0               0\n",
       "...           ...  ...  ...    ...         ...       ...             ...\n",
       "114982        4.0    5    6      5           3         1               0\n",
       "114986        5.0    5    7      5           3         1               0\n",
       "114991       22.0    5    8      5           3         1               0\n",
       "115013      134.0    5    9      5           3         2               0\n",
       "115147      119.0    5   10      5           3         2               0\n",
       "\n",
       "[463 rows x 7 columns]"
      ]
     },
     "execution_count": 41,
     "metadata": {},
     "output_type": "execute_result"
    }
   ],
   "source": [
    "#Label encoding dos dados categóricos\n",
    "le_day = preprocessing.LabelEncoder()\n",
    "day_encoded = le_day.fit_transform(dataset['day'])\n",
    "le_day_part = preprocessing.LabelEncoder()\n",
    "day_part_encoded = le_day_part.fit_transform(dataset['day_part'])\n",
    "dataset['day'] = day_encoded\n",
    "dataset['day_part'] = day_part_encoded\n",
    "dataset"
   ]
  },
  {
   "cell_type": "code",
   "execution_count": 42,
   "metadata": {},
   "outputs": [
    {
     "name": "stdout",
     "output_type": "stream",
     "text": [
      "[6 9 4 13 2 0]\n",
      "[2.0]\n",
      "X shape: (463, 6)\n",
      "Y shape: (463, 1)\n"
     ]
    }
   ],
   "source": [
    "X = dataset.values[:,1:]\n",
    "y = dataset.values[:,0]\n",
    "y = y.reshape(463,1)\n",
    "X_shape = X.shape\n",
    "y_shape = y.shape\n",
    "print(X[0])\n",
    "print(y[0])\n",
    "print('X shape:', X_shape)\n",
    "print('Y shape:', y_shape)"
   ]
  },
  {
   "cell_type": "markdown",
   "metadata": {},
   "source": [
    "## DecisionTree Regressor"
   ]
  },
  {
   "cell_type": "code",
   "execution_count": 43,
   "metadata": {},
   "outputs": [
    {
     "name": "stdout",
     "output_type": "stream",
     "text": [
      "(93, 6)\n"
     ]
    },
    {
     "data": {
      "text/plain": [
       "0.4666971206444731"
      ]
     },
     "execution_count": 43,
     "metadata": {},
     "output_type": "execute_result"
    }
   ],
   "source": [
    "# import the regressor\n",
    "from sklearn.tree import DecisionTreeRegressor \n",
    "from sklearn.model_selection import cross_val_score, GridSearchCV\n",
    "from sklearn.metrics import make_scorer, r2_score\n",
    "\n",
    "X_train, X_test, y_train, y_test = train_test_split(X, y, test_size = 0.2, random_state=2022)\n",
    "print(X_test.shape)\n",
    "\n",
    "'''regressor = DecisionTreeRegressor(random_state=2022, criterion='absolute_error')\n",
    "regressor_fit = regressor.fit(X_train,y_train)\n",
    "\n",
    "scores = cross_val_score(regressor_fit, X_train, y_train, cv = 5)\n",
    "print(\"mean cross validation score: {}\".format(np.mean(scores)))\n",
    "print(\"score without cv: {}\".format(regressor_fit.score(X_train, y_train)))'''\n",
    "\n",
    "scoring = make_scorer(r2_score)\n",
    "g_cv = GridSearchCV(DecisionTreeRegressor(random_state=2022),\n",
    "              param_grid={'min_samples_split': range(2, 10)},\n",
    "              scoring=scoring, cv=5, refit=True)\n",
    "\n",
    "g_cv.fit(X_train, y_train)\n",
    "g_cv.best_params_\n",
    "\n",
    "result = g_cv.cv_results_\n",
    "# print(result)\n",
    "r2_score(y_test, g_cv.best_estimator_.predict(X_test))"
   ]
  },
  {
   "cell_type": "markdown",
   "metadata": {},
   "source": [
    "### Prever o número total de mac addresses"
   ]
  },
  {
   "cell_type": "code",
   "execution_count": null,
   "metadata": {},
   "outputs": [],
   "source": [
    "#from sklearn.metrics import r2_score\n",
    "\n",
    "#print(r2_score(y_test, regressor_fit.predict(X_test)))\n",
    "#print(regressor_fit.score(X_test, y_test))"
   ]
  },
  {
   "cell_type": "code",
   "execution_count": 44,
   "metadata": {},
   "outputs": [
    {
     "name": "stdout",
     "output_type": "stream",
     "text": [
      "['Fri' 'Mon' 'Sat' 'Sun' 'Thu' 'Tue' 'Wed']\n",
      "['afternoon' 'dawn' 'morning' 'night']\n"
     ]
    }
   ],
   "source": [
    "days = [0,1,2,3,4,5,6]\n",
    "day_parts = [0,1,2,3]\n",
    "day_name = le_day.inverse_transform(days)\n",
    "day_part = le_day_part.inverse_transform(day_parts)\n",
    "print(day_name)\n",
    "print(day_part)"
   ]
  },
  {
   "cell_type": "code",
   "execution_count": 51,
   "metadata": {},
   "outputs": [
    {
     "name": "stdout",
     "output_type": "stream",
     "text": [
      "Previsto:  990.5  | Real:  265.0  Diferença entre o real e o previsto:  725.5\n",
      "Previsto:  360.8  | Real:  872.0  Diferença entre o real e o previsto:  511.2\n",
      "Previsto:  9.0  | Real:  12.0  Diferença entre o real e o previsto:  3.0\n",
      "Previsto:  539.0  | Real:  608.0  Diferença entre o real e o previsto:  69.0\n",
      "Previsto:  5.0  | Real:  2.0  Diferença entre o real e o previsto:  3.0\n",
      "Previsto:  573.8  | Real:  319.0  Diferença entre o real e o previsto:  254.79999999999995\n",
      "Previsto:  431.2  | Real:  117.0  Diferença entre o real e o previsto:  314.2\n",
      "Previsto:  539.0  | Real:  925.0  Diferença entre o real e o previsto:  386.0\n",
      "Previsto:  8.5  | Real:  20.0  Diferença entre o real e o previsto:  11.5\n",
      "Previsto:  20.0  | Real:  24.0  Diferença entre o real e o previsto:  4.0\n",
      "Previsto:  806.0  | Real:  509.0  Diferença entre o real e o previsto:  297.0\n",
      "Previsto:  4.5  | Real:  17.0  Diferença entre o real e o previsto:  12.5\n",
      "Previsto:  65.5  | Real:  233.0  Diferença entre o real e o previsto:  167.5\n",
      "Previsto:  71.0  | Real:  1.0  Diferença entre o real e o previsto:  70.0\n",
      "Previsto:  332.0  | Real:  256.0  Diferença entre o real e o previsto:  76.0\n",
      "Previsto:  38.25  | Real:  13.0  Diferença entre o real e o previsto:  25.25\n",
      "Previsto:  1.6  | Real:  6.0  Diferença entre o real e o previsto:  4.4\n",
      "Previsto:  11.166666666666666  | Real:  5.0  Diferença entre o real e o previsto:  6.166666666666666\n",
      "Previsto:  12.333333333333334  | Real:  58.0  Diferença entre o real e o previsto:  45.666666666666664\n",
      "Previsto:  2.6666666666666665  | Real:  4.0  Diferença entre o real e o previsto:  1.3333333333333335\n",
      "Previsto:  11.166666666666666  | Real:  3.0  Diferença entre o real e o previsto:  8.166666666666666\n",
      "Previsto:  47.0  | Real:  94.0  Diferença entre o real e o previsto:  47.0\n",
      "Previsto:  4.5  | Real:  3.0  Diferença entre o real e o previsto:  1.5\n",
      "Previsto:  665.5  | Real:  888.0  Diferença entre o real e o previsto:  222.5\n",
      "Previsto:  269.0  | Real:  401.0  Diferença entre o real e o previsto:  132.0\n",
      "Previsto:  73.0  | Real:  122.0  Diferença entre o real e o previsto:  49.0\n",
      "Previsto:  18.25  | Real:  2.0  Diferença entre o real e o previsto:  16.25\n",
      "Previsto:  5.5  | Real:  1.0  Diferença entre o real e o previsto:  4.5\n",
      "Previsto:  20.0  | Real:  26.0  Diferença entre o real e o previsto:  6.0\n",
      "Previsto:  20.0  | Real:  19.0  Diferença entre o real e o previsto:  1.0\n",
      "Previsto:  688.0  | Real:  714.0  Diferença entre o real e o previsto:  26.0\n",
      "Previsto:  688.0  | Real:  664.0  Diferença entre o real e o previsto:  24.0\n",
      "Previsto:  796.0  | Real:  703.0  Diferença entre o real e o previsto:  93.0\n",
      "Previsto:  65.4  | Real:  2.0  Diferença entre o real e o previsto:  63.400000000000006\n",
      "Previsto:  688.0  | Real:  578.0  Diferença entre o real e o previsto:  110.0\n",
      "Previsto:  857.0  | Real:  564.0  Diferença entre o real e o previsto:  293.0\n",
      "Previsto:  20.0  | Real:  46.0  Diferença entre o real e o previsto:  26.0\n",
      "Previsto:  269.0  | Real:  689.0  Diferença entre o real e o previsto:  420.0\n",
      "Previsto:  380.0  | Real:  224.0  Diferença entre o real e o previsto:  156.0\n",
      "Previsto:  461.0  | Real:  698.0  Diferença entre o real e o previsto:  237.0\n",
      "Previsto:  38.25  | Real:  54.0  Diferença entre o real e o previsto:  15.75\n",
      "Previsto:  29.6  | Real:  39.0  Diferença entre o real e o previsto:  9.399999999999999\n",
      "Previsto:  137.2  | Real:  125.0  Diferença entre o real e o previsto:  12.199999999999989\n",
      "Previsto:  19.333333333333332  | Real:  19.0  Diferença entre o real e o previsto:  0.33333333333333215\n",
      "Previsto:  71.0  | Real:  165.0  Diferença entre o real e o previsto:  94.0\n",
      "Previsto:  7.5  | Real:  58.0  Diferença entre o real e o previsto:  50.5\n",
      "Previsto:  291.0  | Real:  456.0  Diferença entre o real e o previsto:  165.0\n",
      "Previsto:  6.0  | Real:  71.0  Diferença entre o real e o previsto:  65.0\n",
      "Previsto:  12.333333333333334  | Real:  5.0  Diferença entre o real e o previsto:  7.333333333333334\n",
      "Previsto:  2.8  | Real:  49.0  Diferença entre o real e o previsto:  46.2\n",
      "Previsto:  990.5  | Real:  458.0  Diferença entre o real e o previsto:  532.5\n",
      "Previsto:  5.0  | Real:  7.0  Diferença entre o real e o previsto:  2.0\n",
      "Previsto:  8.333333333333334  | Real:  18.0  Diferença entre o real e o previsto:  9.666666666666666\n",
      "Previsto:  116.66666666666667  | Real:  4.0  Diferença entre o real e o previsto:  112.66666666666667\n",
      "Previsto:  573.8  | Real:  278.0  Diferença entre o real e o previsto:  295.79999999999995\n",
      "Previsto:  405.6  | Real:  579.0  Diferença entre o real e o previsto:  173.39999999999998\n",
      "Previsto:  279.0  | Real:  638.0  Diferença entre o real e o previsto:  359.0\n",
      "Previsto:  9.0  | Real:  19.0  Diferença entre o real e o previsto:  10.0\n",
      "Previsto:  522.3333333333334  | Real:  377.0  Diferença entre o real e o previsto:  145.33333333333337\n",
      "Previsto:  405.6  | Real:  980.0  Diferença entre o real e o previsto:  574.4\n",
      "Previsto:  371.3333333333333  | Real:  171.0  Diferença entre o real e o previsto:  200.33333333333331\n",
      "Previsto:  522.3333333333334  | Real:  688.0  Diferença entre o real e o previsto:  165.66666666666663\n",
      "Previsto:  38.25  | Real:  25.0  Diferença entre o real e o previsto:  13.25\n",
      "Previsto:  116.66666666666667  | Real:  647.0  Diferença entre o real e o previsto:  530.3333333333334\n",
      "Previsto:  332.0  | Real:  351.0  Diferença entre o real e o previsto:  19.0\n",
      "Previsto:  736.6666666666666  | Real:  27.0  Diferença entre o real e o previsto:  709.6666666666666\n",
      "Previsto:  11.0  | Real:  14.0  Diferença entre o real e o previsto:  3.0\n",
      "Previsto:  7.5  | Real:  2.0  Diferença entre o real e o previsto:  5.5\n",
      "Previsto:  4.25  | Real:  1.0  Diferença entre o real e o previsto:  3.25\n",
      "Previsto:  122.0  | Real:  5.0  Diferença entre o real e o previsto:  117.0\n",
      "Previsto:  57.0  | Real:  114.0  Diferença entre o real e o previsto:  57.0\n",
      "Previsto:  278.2  | Real:  149.0  Diferença entre o real e o previsto:  129.2\n",
      "Previsto:  71.0  | Real:  17.0  Diferença entre o real e o previsto:  54.0\n",
      "Previsto:  18.666666666666668  | Real:  17.0  Diferença entre o real e o previsto:  1.6666666666666679\n",
      "Previsto:  9.0  | Real:  14.0  Diferença entre o real e o previsto:  5.0\n",
      "Previsto:  8.333333333333334  | Real:  1.0  Diferença entre o real e o previsto:  7.333333333333334\n",
      "Previsto:  405.6  | Real:  777.0  Diferença entre o real e o previsto:  371.4\n",
      "Previsto:  688.0  | Real:  441.0  Diferença entre o real e o previsto:  247.0\n",
      "Previsto:  5.0  | Real:  26.0  Diferença entre o real e o previsto:  21.0\n",
      "Previsto:  796.0  | Real:  553.0  Diferença entre o real e o previsto:  243.0\n",
      "Previsto:  325.0  | Real:  945.0  Diferença entre o real e o previsto:  620.0\n",
      "Previsto:  11.166666666666666  | Real:  1.0  Diferença entre o real e o previsto:  10.166666666666666\n",
      "Previsto:  6.0  | Real:  1.0  Diferença entre o real e o previsto:  5.0\n",
      "Previsto:  806.0  | Real:  522.0  Diferença entre o real e o previsto:  284.0\n",
      "Previsto:  12.333333333333334  | Real:  3.0  Diferença entre o real e o previsto:  9.333333333333334\n",
      "Previsto:  7.6  | Real:  8.0  Diferença entre o real e o previsto:  0.40000000000000036\n",
      "Previsto:  375.0  | Real:  773.0  Diferença entre o real e o previsto:  398.0\n",
      "Previsto:  920.0  | Real:  815.0  Diferença entre o real e o previsto:  105.0\n",
      "Previsto:  5.0  | Real:  5.0  Diferença entre o real e o previsto:  0.0\n",
      "Previsto:  380.0  | Real:  594.0  Diferença entre o real e o previsto:  214.0\n",
      "Previsto:  5.0  | Real:  127.0  Diferença entre o real e o previsto:  122.0\n",
      "Previsto:  8.333333333333334  | Real:  3.0  Diferença entre o real e o previsto:  5.333333333333334\n",
      "Previsto:  11.166666666666666  | Real:  1.0  Diferença entre o real e o previsto:  10.166666666666666\n"
     ]
    }
   ],
   "source": [
    "preds = g_cv.best_estimator_.predict(X_test)\n",
    "for i in range(len(preds)):\n",
    "    print('Previsto: ', preds[i], ' | Real: ',y_test.flatten()[i], ' Diferença entre o real e o previsto: ',\n",
    "          abs(y_test.flatten()[i] - preds[i]))"
   ]
  },
  {
   "cell_type": "code",
   "execution_count": null,
   "metadata": {
    "scrolled": true
   },
   "outputs": [],
   "source": [
    "#y_pred = regressor.predict([[1, 9, 6, 13, 2, 0]])\n",
    "#print('Contagem de mac adresses (aproximada) para o dia 12 de junho, pela manhã (às 9):',int(y_pred))"
   ]
  },
  {
   "cell_type": "code",
   "execution_count": null,
   "metadata": {},
   "outputs": [],
   "source": [
    "#y_pred = regressor.predict([[0, 16, 4, 29, 0, 0]])\n",
    "#print('Contagem de mac adresses (aproximada) para o dia 29 de abril, pela tarde (às 16):',int(y_pred))"
   ]
  },
  {
   "cell_type": "code",
   "execution_count": null,
   "metadata": {},
   "outputs": [],
   "source": [
    "#y_pred = regressor.predict([[1, 10, 5, 16, 2, 0]])\n",
    "#print('Contagem de mac adresses (aproximada) para o dia 16 de maio, pela manhã (às 10):',int(y_pred))"
   ]
  },
  {
   "cell_type": "code",
   "execution_count": null,
   "metadata": {},
   "outputs": [],
   "source": [
    "#y_pred = regressor.predict(X_test)\n",
    "#print('Mac counts previstos:',y_pred.astype('int'))\n",
    "#print('Mac counts reais:',y_test.astype('int').flatten())"
   ]
  },
  {
   "cell_type": "markdown",
   "metadata": {},
   "source": [
    "## Rede neuronal"
   ]
  },
  {
   "cell_type": "code",
   "execution_count": 20,
   "metadata": {},
   "outputs": [
    {
     "name": "stdout",
     "output_type": "stream",
     "text": [
      "[ 6.  9.  4. 13.  2.  0.]\n",
      "[2.]\n"
     ]
    }
   ],
   "source": [
    "dataset['day'] = dataset['day'].astype('float32')\n",
    "dataset['day_part'] = dataset['day_part'].astype('float32')\n",
    "dataset['month'] = dataset['month'].astype('float32')\n",
    "dataset['hour'] = dataset['hour'].astype('float32')\n",
    "dataset['is_holiday_eve'] = dataset['is_holiday_eve'].astype('float32')\n",
    "dataset['day_number'] = dataset['day_number'].astype('float32')\n",
    "X = dataset.values[:,1:]\n",
    "y = dataset.values[:,0]\n",
    "y = y.reshape(463,1)\n",
    "print(X[0])\n",
    "print(y[0])"
   ]
  },
  {
   "cell_type": "code",
   "execution_count": 21,
   "metadata": {},
   "outputs": [],
   "source": [
    "from sklearn.preprocessing import StandardScaler\n",
    "\n",
    "scaler = StandardScaler()\n",
    "X = scaler.fit_transform(X)"
   ]
  },
  {
   "cell_type": "code",
   "execution_count": 22,
   "metadata": {},
   "outputs": [
    {
     "name": "stdout",
     "output_type": "stream",
     "text": [
      "Shape do treino: (333, 6) (333, 1)\n",
      "Shape do teste: (37, 6) (37, 1)\n",
      "Shape da validação: (93, 6) (93, 1)\n"
     ]
    }
   ],
   "source": [
    "# Guardar dados para teste\n",
    "X_train, X_val, y_train, y_val = train_test_split(X, y, test_size=0.2, random_state = 2022)\n",
    "X_train, X_test, y_train, y_test = train_test_split(X_train, y_train, test_size = 0.1, random_state = 2022)\n",
    "print('Shape do treino:', X_train.shape, y_train.shape)\n",
    "print('Shape do teste:', X_test.shape, y_test.shape)\n",
    "print('Shape da validação:', X_val.shape, y_val.shape)"
   ]
  },
  {
   "cell_type": "code",
   "execution_count": 23,
   "metadata": {},
   "outputs": [],
   "source": [
    "import tensorflow as tf\n",
    "\n",
    "inputs = tf.keras.Input(shape=X_train.shape[1:])\n",
    "x = tf.keras.layers.Dense(32, activation='relu')(inputs)\n",
    "x = tf.keras.layers.Dense(16, activation='relu')(x)\n",
    "x = tf.keras.layers.Dense(8, activation='relu')(x)\n",
    "outputs = tf.keras.layers.Dense(1, activation='linear')(x)\n",
    "\n",
    "model = tf.keras.Model(inputs=inputs, outputs=outputs)"
   ]
  },
  {
   "cell_type": "code",
   "execution_count": 24,
   "metadata": {},
   "outputs": [],
   "source": [
    "# Compilar o modelo\n",
    "model.compile(loss = 'mae', optimizer = 'adam', metrics=['mae'])"
   ]
  },
  {
   "cell_type": "code",
   "execution_count": 25,
   "metadata": {
    "scrolled": false
   },
   "outputs": [
    {
     "data": {
      "image/png": "[encoded data removed]",
      "text/plain": [
       "<Figure size 864x576 with 2 Axes>"
      ]
     },
     "metadata": {
      "needs_background": "light"
     },
     "output_type": "display_data"
    },
    {
     "name": "stdout",
     "output_type": "stream",
     "text": [
      "Loss\n",
      "\ttraining         \t (min:  130.451, max:  138.952, cur:  130.451)\n",
      "\tvalidation       \t (min:  151.518, max:  160.026, cur:  151.584)\n",
      "mae\n",
      "\ttraining         \t (min:  130.451, max:  138.952, cur:  130.451)\n",
      "\tvalidation       \t (min:  151.518, max:  160.026, cur:  151.584)\n",
      "19/19 [==============================] - 1s 35ms/step - loss: 130.4511 - mae: 130.4511 - val_loss: 151.5837 - val_mae: 151.5837\n",
      "3/3 [==============================] - 0s 3ms/step - loss: 156.5871 - mae: 156.5871\n",
      "Val Score:  [156.5871124267578, 156.5871124267578]\n",
      "====================================================================================\n",
      "\n",
      "\n"
     ]
    }
   ],
   "source": [
    "# Fitting do modelo\n",
    "from livelossplot.tf_keras import PlotLossesCallback\n",
    "\n",
    "n_folds=3\n",
    "epochs=50\n",
    "batch_size=16\n",
    "\n",
    "def fit_and_evaluate(t_x, val_x, t_y, val_y, epochs, batch_size, model):\n",
    "    results = model.fit(t_x, t_y, epochs=epochs, batch_size=batch_size, callbacks=[PlotLossesCallback()], \n",
    "              verbose=1, validation_split=0.1)  \n",
    "    print(\"Val Score: \", model.evaluate(val_x, val_y))\n",
    "    return results\n",
    "\n",
    "#save the model history in a list after fitting so that we can plot later\n",
    "model_history = [] \n",
    "\n",
    "for i in range(n_folds):\n",
    "    print(\"Training on Fold: \",i+1)\n",
    "    model_history.append(fit_and_evaluate(X_train, X_val, y_train, y_val, epochs, batch_size,model))\n",
    "    print(\"=======\"*12, end=\"\\n\\n\\n\")"
   ]
  },
  {
   "cell_type": "code",
   "execution_count": 26,
   "metadata": {},
   "outputs": [
    {
     "name": "stdout",
     "output_type": "stream",
     "text": [
      "Previsões: [ 5.1219086e+02  3.7983771e+02  2.1901909e+01  3.1531937e+01\n",
      "  1.3301783e+01  3.8620200e+02  8.3074768e+01  5.3932983e+02\n",
      "  3.3756851e+01  1.6956875e+01  9.8262310e+00  5.2840112e+02\n",
      "  2.4259312e+02  5.9728497e+01  2.2464795e+02  4.8210742e+02\n",
      "  4.6135231e+01 -3.6201718e-01  9.2085247e+00  2.6460426e+01\n",
      "  5.6389084e+01  1.7207639e+02  1.4727881e+02  5.7485693e+02\n",
      " -8.2990348e-01  3.4309940e+02  1.7020288e+01  4.1162387e+02\n",
      "  3.6391837e+02  7.2665115e+01  2.3186932e+02  1.5160715e+01\n",
      " -2.4014292e+00  5.1039740e+02  3.1147421e+02  5.7921649e+02\n",
      "  2.9705908e+02]\n",
      "Realidade: [8.530e+02 2.920e+02 5.000e+00 5.000e+00 3.200e+01 3.080e+02 2.410e+02\n",
      " 6.610e+02 5.360e+02 2.300e+01 1.000e+00 9.310e+02 1.820e+02 3.000e+00\n",
      " 7.530e+02 1.720e+02 1.700e+01 1.000e+00 3.000e+01 2.690e+02 1.220e+02\n",
      " 3.000e+00 3.700e+01 4.010e+02 3.000e+00 9.890e+02 1.000e+00 6.150e+02\n",
      " 5.690e+02 6.000e+00 7.190e+02 3.000e+00 1.800e+01 2.880e+02 6.270e+02\n",
      " 1.045e+03 4.240e+02]\n"
     ]
    }
   ],
   "source": [
    "preds = model.predict(X_test)\n",
    "print('Previsões:',preds.flatten())\n",
    "print('Realidade:',y_test.flatten())"
   ]
  }
 ],
 "metadata": {
  "interpreter": {
   "hash": "2dc541575c2549f11ad24dd2f4e05ff47223fbb94b62196dc98b619087f7f9e8"
  },
  "kernelspec": {
   "display_name": "Python 3 (ipykernel)",
   "language": "python",
   "name": "python3"
  },
  "language_info": {
   "codemirror_mode": {
    "name": "ipython",
    "version": 3
   },
   "file_extension": ".py",
   "mimetype": "text/x-python",
   "name": "python",
   "nbconvert_exporter": "python",
   "pygments_lexer": "ipython3",
   "version": "3.9.0"
  }
 },
 "nbformat": 4,
 "nbformat_minor": 2
}
